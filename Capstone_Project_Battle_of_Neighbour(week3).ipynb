{
 "cells": [
  {
   "cell_type": "markdown",
   "metadata": {},
   "source": [
    "# Where is the best place for a new Barber Shop in Toronto"
   ]
  },
  {
   "cell_type": "markdown",
   "metadata": {},
   "source": [
    "## Introduction"
   ]
  },
  {
   "cell_type": "markdown",
   "metadata": {},
   "source": [
    "A new client plans to open a new barbershop in Toronto, and they are deciding which neighbourhood is the optimal place.\n",
    "\n",
    "Their ideal neighbourhoods requirements are following:\n",
    "1. with decent amount of residents\n",
    "2. there are not too many barber shops nearby\n"
   ]
  },
  {
   "cell_type": "markdown",
   "metadata": {},
   "source": [
    "## Data Source"
   ]
  },
  {
   "cell_type": "markdown",
   "metadata": {},
   "source": [
    "To pick the optimal location, we have to use those following data\n",
    "\n",
    "- the data of population from each neighbourhood [Wikipedia](https://en.wikipedia.org/wiki/Demographics_of_Toronto_neighbourhoods)\n",
    "- the neighbourhood information in Toronto [Wikipedia](https://en.wikipedia.org/wiki/List_of_postal_codes_of_Canada:_M)\n",
    "- the spatial data including coordinates of neighbourhoods in Toronto [DataPage](http://cocl.us/Geospatial_data)\n",
    "- venue data for all barbershop location using Foursquare API"
   ]
  },
  {
   "cell_type": "markdown",
   "metadata": {},
   "source": [
    "## Analysis Methodology"
   ]
  },
  {
   "cell_type": "markdown",
   "metadata": {},
   "source": [
    "Using all the data mentioned above, we will run the following analysis to find out the optimal place for a barber shop in Toronto.\n",
    "\n",
    "- compare the population number in each neighbourhood\n",
    "- find number of barbershops in each neighbourhood\n",
    "- filter those neighbourhoods with high density of barbershop\n",
    "- clusters neighbourhoods to find the best neighbourhood \n",
    "- therefore find the optimal coordinates for a new barbershop."
   ]
  },
  {
   "cell_type": "markdown",
   "metadata": {},
   "source": []
  }
 ],
 "metadata": {
  "kernelspec": {
   "display_name": "Python 3",
   "language": "python",
   "name": "python3"
  },
  "language_info": {
   "codemirror_mode": {
    "name": "ipython",
    "version": 3
   },
   "file_extension": ".py",
   "mimetype": "text/x-python",
   "name": "python",
   "nbconvert_exporter": "python",
   "pygments_lexer": "ipython3",
   "version": "3.8.3"
  }
 },
 "nbformat": 4,
 "nbformat_minor": 4
}
