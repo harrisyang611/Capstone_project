{
 "cells": [
  {
   "cell_type": "markdown",
   "metadata": {},
   "source": [
    "# Notebook for Scrape Postal Codes of Canada starting with M"
   ]
  },
  {
   "cell_type": "markdown",
   "metadata": {},
   "source": [
    "We are using requests, bs4 to scrape the data from Wikipedia page for the neighbour explore project for IBM DS Capstone"
   ]
  },
  {
   "cell_type": "markdown",
   "metadata": {},
   "source": [
    "## Part 1"
   ]
  },
  {
   "cell_type": "code",
   "execution_count": 29,
   "metadata": {},
   "outputs": [],
   "source": [
    "# Import packages\n",
    "import pandas as pd\n",
    "import requests\n",
    "from bs4 import BeautifulSoup\n",
    "import numpy as np\n",
    "\n",
    "from geopy.geocoders import Nominatim \n",
    "import folium\n",
    "\n",
    "from sklearn.cluster import KMeans\n",
    "from pandas.io.json import json_normalize\n",
    "\n",
    "\n",
    "import matplotlib.cm as cm\n",
    "import matplotlib.colors as colors\n",
    "\n",
    "import matplotlib.pyplot as plt"
   ]
  },
  {
   "cell_type": "markdown",
   "metadata": {},
   "source": [
    "Load the URL and use requests to scrape the data.\n",
    "\n",
    "Note: The scrped date is July 28th."
   ]
  },
  {
   "cell_type": "code",
   "execution_count": 3,
   "metadata": {},
   "outputs": [],
   "source": [
    "url = 'https://en.wikipedia.org/wiki/List_of_postal_codes_of_Canada:_M'\n",
    "content = requests.get(url).text"
   ]
  },
  {
   "cell_type": "markdown",
   "metadata": {},
   "source": [
    "Use BeautifulSoup to clean the scraped file\n",
    "\n",
    "We checked that this wikipedia page only contains one table.\n",
    "\n",
    "Use pandas to clean the table"
   ]
  },
  {
   "cell_type": "code",
   "execution_count": 4,
   "metadata": {},
   "outputs": [],
   "source": [
    "soup = BeautifulSoup(content,'lxml')\n",
    "table = soup.find_all('table')\n",
    "df = pd.read_html(str(table))[0]"
   ]
  },
  {
   "cell_type": "markdown",
   "metadata": {},
   "source": [
    "Show the first 10 rows of the table."
   ]
  },
  {
   "cell_type": "code",
   "execution_count": 5,
   "metadata": {},
   "outputs": [
    {
     "data": {
      "text/html": [
       "<div>\n",
       "<style scoped>\n",
       "    .dataframe tbody tr th:only-of-type {\n",
       "        vertical-align: middle;\n",
       "    }\n",
       "\n",
       "    .dataframe tbody tr th {\n",
       "        vertical-align: top;\n",
       "    }\n",
       "\n",
       "    .dataframe thead th {\n",
       "        text-align: right;\n",
       "    }\n",
       "</style>\n",
       "<table border=\"1\" class=\"dataframe\">\n",
       "  <thead>\n",
       "    <tr style=\"text-align: right;\">\n",
       "      <th></th>\n",
       "      <th>Postal Code</th>\n",
       "      <th>Borough</th>\n",
       "      <th>Neighbourhood</th>\n",
       "    </tr>\n",
       "  </thead>\n",
       "  <tbody>\n",
       "    <tr>\n",
       "      <th>0</th>\n",
       "      <td>M1A</td>\n",
       "      <td>Not assigned</td>\n",
       "      <td>Not assigned</td>\n",
       "    </tr>\n",
       "    <tr>\n",
       "      <th>1</th>\n",
       "      <td>M2A</td>\n",
       "      <td>Not assigned</td>\n",
       "      <td>Not assigned</td>\n",
       "    </tr>\n",
       "    <tr>\n",
       "      <th>2</th>\n",
       "      <td>M3A</td>\n",
       "      <td>North York</td>\n",
       "      <td>Parkwoods</td>\n",
       "    </tr>\n",
       "    <tr>\n",
       "      <th>3</th>\n",
       "      <td>M4A</td>\n",
       "      <td>North York</td>\n",
       "      <td>Victoria Village</td>\n",
       "    </tr>\n",
       "    <tr>\n",
       "      <th>4</th>\n",
       "      <td>M5A</td>\n",
       "      <td>Downtown Toronto</td>\n",
       "      <td>Regent Park, Harbourfront</td>\n",
       "    </tr>\n",
       "    <tr>\n",
       "      <th>5</th>\n",
       "      <td>M6A</td>\n",
       "      <td>North York</td>\n",
       "      <td>Lawrence Manor, Lawrence Heights</td>\n",
       "    </tr>\n",
       "    <tr>\n",
       "      <th>6</th>\n",
       "      <td>M7A</td>\n",
       "      <td>Downtown Toronto</td>\n",
       "      <td>Queen's Park, Ontario Provincial Government</td>\n",
       "    </tr>\n",
       "    <tr>\n",
       "      <th>7</th>\n",
       "      <td>M8A</td>\n",
       "      <td>Not assigned</td>\n",
       "      <td>Not assigned</td>\n",
       "    </tr>\n",
       "    <tr>\n",
       "      <th>8</th>\n",
       "      <td>M9A</td>\n",
       "      <td>Etobicoke</td>\n",
       "      <td>Islington Avenue, Humber Valley Village</td>\n",
       "    </tr>\n",
       "    <tr>\n",
       "      <th>9</th>\n",
       "      <td>M1B</td>\n",
       "      <td>Scarborough</td>\n",
       "      <td>Malvern, Rouge</td>\n",
       "    </tr>\n",
       "  </tbody>\n",
       "</table>\n",
       "</div>"
      ],
      "text/plain": [
       "  Postal Code           Borough                                Neighbourhood\n",
       "0         M1A      Not assigned                                 Not assigned\n",
       "1         M2A      Not assigned                                 Not assigned\n",
       "2         M3A        North York                                    Parkwoods\n",
       "3         M4A        North York                             Victoria Village\n",
       "4         M5A  Downtown Toronto                    Regent Park, Harbourfront\n",
       "5         M6A        North York             Lawrence Manor, Lawrence Heights\n",
       "6         M7A  Downtown Toronto  Queen's Park, Ontario Provincial Government\n",
       "7         M8A      Not assigned                                 Not assigned\n",
       "8         M9A         Etobicoke      Islington Avenue, Humber Valley Village\n",
       "9         M1B       Scarborough                               Malvern, Rouge"
      ]
     },
     "execution_count": 5,
     "metadata": {},
     "output_type": "execute_result"
    }
   ],
   "source": [
    "df[0:10]"
   ]
  },
  {
   "cell_type": "markdown",
   "metadata": {},
   "source": [
    "Remove all the rows with Borough column = 'Not assigned'"
   ]
  },
  {
   "cell_type": "code",
   "execution_count": 6,
   "metadata": {},
   "outputs": [],
   "source": [
    "postal_df = df[ df['Borough'] != 'Not assigned' ]"
   ]
  },
  {
   "cell_type": "markdown",
   "metadata": {},
   "source": [
    "Check whether Neighbour column contains any 'Not assigned'"
   ]
  },
  {
   "cell_type": "code",
   "execution_count": 7,
   "metadata": {},
   "outputs": [
    {
     "data": {
      "text/html": [
       "<div>\n",
       "<style scoped>\n",
       "    .dataframe tbody tr th:only-of-type {\n",
       "        vertical-align: middle;\n",
       "    }\n",
       "\n",
       "    .dataframe tbody tr th {\n",
       "        vertical-align: top;\n",
       "    }\n",
       "\n",
       "    .dataframe thead th {\n",
       "        text-align: right;\n",
       "    }\n",
       "</style>\n",
       "<table border=\"1\" class=\"dataframe\">\n",
       "  <thead>\n",
       "    <tr style=\"text-align: right;\">\n",
       "      <th></th>\n",
       "      <th>Postal Code</th>\n",
       "      <th>Borough</th>\n",
       "      <th>Neighbourhood</th>\n",
       "    </tr>\n",
       "  </thead>\n",
       "  <tbody>\n",
       "  </tbody>\n",
       "</table>\n",
       "</div>"
      ],
      "text/plain": [
       "Empty DataFrame\n",
       "Columns: [Postal Code, Borough, Neighbourhood]\n",
       "Index: []"
      ]
     },
     "execution_count": 7,
     "metadata": {},
     "output_type": "execute_result"
    }
   ],
   "source": [
    "postal_df[postal_df['Neighbourhood'] == 'Not assigned']"
   ]
  },
  {
   "cell_type": "markdown",
   "metadata": {},
   "source": [
    "No 'Not assigned' appeared in the Neighbour column after the cleaning.\n",
    "\n",
    "Print the shape of the cleaned version table."
   ]
  },
  {
   "cell_type": "code",
   "execution_count": 8,
   "metadata": {},
   "outputs": [
    {
     "name": "stdout",
     "output_type": "stream",
     "text": [
      "The shape of the postal table scraped from Wikepedia is  (103, 3)\n"
     ]
    }
   ],
   "source": [
    "print('The shape of the postal table scraped from Wikepedia is ', postal_df.shape)"
   ]
  },
  {
   "cell_type": "markdown",
   "metadata": {},
   "source": [
    "## Part 2"
   ]
  },
  {
   "cell_type": "code",
   "execution_count": 9,
   "metadata": {},
   "outputs": [],
   "source": [
    "geodata = pd.read_csv('Geospatial_Coordinates.csv')"
   ]
  },
  {
   "cell_type": "code",
   "execution_count": 10,
   "metadata": {},
   "outputs": [
    {
     "data": {
      "text/html": [
       "<div>\n",
       "<style scoped>\n",
       "    .dataframe tbody tr th:only-of-type {\n",
       "        vertical-align: middle;\n",
       "    }\n",
       "\n",
       "    .dataframe tbody tr th {\n",
       "        vertical-align: top;\n",
       "    }\n",
       "\n",
       "    .dataframe thead th {\n",
       "        text-align: right;\n",
       "    }\n",
       "</style>\n",
       "<table border=\"1\" class=\"dataframe\">\n",
       "  <thead>\n",
       "    <tr style=\"text-align: right;\">\n",
       "      <th></th>\n",
       "      <th>Postal Code</th>\n",
       "      <th>Borough</th>\n",
       "      <th>Neighbourhood</th>\n",
       "      <th>Latitude</th>\n",
       "      <th>Longitude</th>\n",
       "    </tr>\n",
       "  </thead>\n",
       "  <tbody>\n",
       "    <tr>\n",
       "      <th>0</th>\n",
       "      <td>M3A</td>\n",
       "      <td>North York</td>\n",
       "      <td>Parkwoods</td>\n",
       "      <td>43.753259</td>\n",
       "      <td>-79.329656</td>\n",
       "    </tr>\n",
       "    <tr>\n",
       "      <th>1</th>\n",
       "      <td>M4A</td>\n",
       "      <td>North York</td>\n",
       "      <td>Victoria Village</td>\n",
       "      <td>43.725882</td>\n",
       "      <td>-79.315572</td>\n",
       "    </tr>\n",
       "    <tr>\n",
       "      <th>2</th>\n",
       "      <td>M5A</td>\n",
       "      <td>Downtown Toronto</td>\n",
       "      <td>Regent Park, Harbourfront</td>\n",
       "      <td>43.654260</td>\n",
       "      <td>-79.360636</td>\n",
       "    </tr>\n",
       "    <tr>\n",
       "      <th>3</th>\n",
       "      <td>M6A</td>\n",
       "      <td>North York</td>\n",
       "      <td>Lawrence Manor, Lawrence Heights</td>\n",
       "      <td>43.718518</td>\n",
       "      <td>-79.464763</td>\n",
       "    </tr>\n",
       "    <tr>\n",
       "      <th>4</th>\n",
       "      <td>M7A</td>\n",
       "      <td>Downtown Toronto</td>\n",
       "      <td>Queen's Park, Ontario Provincial Government</td>\n",
       "      <td>43.662301</td>\n",
       "      <td>-79.389494</td>\n",
       "    </tr>\n",
       "    <tr>\n",
       "      <th>...</th>\n",
       "      <td>...</td>\n",
       "      <td>...</td>\n",
       "      <td>...</td>\n",
       "      <td>...</td>\n",
       "      <td>...</td>\n",
       "    </tr>\n",
       "    <tr>\n",
       "      <th>98</th>\n",
       "      <td>M8X</td>\n",
       "      <td>Etobicoke</td>\n",
       "      <td>The Kingsway, Montgomery Road, Old Mill North</td>\n",
       "      <td>43.653654</td>\n",
       "      <td>-79.506944</td>\n",
       "    </tr>\n",
       "    <tr>\n",
       "      <th>99</th>\n",
       "      <td>M4Y</td>\n",
       "      <td>Downtown Toronto</td>\n",
       "      <td>Church and Wellesley</td>\n",
       "      <td>43.665860</td>\n",
       "      <td>-79.383160</td>\n",
       "    </tr>\n",
       "    <tr>\n",
       "      <th>100</th>\n",
       "      <td>M7Y</td>\n",
       "      <td>East Toronto</td>\n",
       "      <td>Business reply mail Processing Centre, South C...</td>\n",
       "      <td>43.662744</td>\n",
       "      <td>-79.321558</td>\n",
       "    </tr>\n",
       "    <tr>\n",
       "      <th>101</th>\n",
       "      <td>M8Y</td>\n",
       "      <td>Etobicoke</td>\n",
       "      <td>Old Mill South, King's Mill Park, Sunnylea, Hu...</td>\n",
       "      <td>43.636258</td>\n",
       "      <td>-79.498509</td>\n",
       "    </tr>\n",
       "    <tr>\n",
       "      <th>102</th>\n",
       "      <td>M8Z</td>\n",
       "      <td>Etobicoke</td>\n",
       "      <td>Mimico NW, The Queensway West, South of Bloor,...</td>\n",
       "      <td>43.628841</td>\n",
       "      <td>-79.520999</td>\n",
       "    </tr>\n",
       "  </tbody>\n",
       "</table>\n",
       "<p>103 rows × 5 columns</p>\n",
       "</div>"
      ],
      "text/plain": [
       "    Postal Code           Borough  \\\n",
       "0           M3A        North York   \n",
       "1           M4A        North York   \n",
       "2           M5A  Downtown Toronto   \n",
       "3           M6A        North York   \n",
       "4           M7A  Downtown Toronto   \n",
       "..          ...               ...   \n",
       "98          M8X         Etobicoke   \n",
       "99          M4Y  Downtown Toronto   \n",
       "100         M7Y      East Toronto   \n",
       "101         M8Y         Etobicoke   \n",
       "102         M8Z         Etobicoke   \n",
       "\n",
       "                                         Neighbourhood   Latitude  Longitude  \n",
       "0                                            Parkwoods  43.753259 -79.329656  \n",
       "1                                     Victoria Village  43.725882 -79.315572  \n",
       "2                            Regent Park, Harbourfront  43.654260 -79.360636  \n",
       "3                     Lawrence Manor, Lawrence Heights  43.718518 -79.464763  \n",
       "4          Queen's Park, Ontario Provincial Government  43.662301 -79.389494  \n",
       "..                                                 ...        ...        ...  \n",
       "98       The Kingsway, Montgomery Road, Old Mill North  43.653654 -79.506944  \n",
       "99                                Church and Wellesley  43.665860 -79.383160  \n",
       "100  Business reply mail Processing Centre, South C...  43.662744 -79.321558  \n",
       "101  Old Mill South, King's Mill Park, Sunnylea, Hu...  43.636258 -79.498509  \n",
       "102  Mimico NW, The Queensway West, South of Bloor,...  43.628841 -79.520999  \n",
       "\n",
       "[103 rows x 5 columns]"
      ]
     },
     "execution_count": 10,
     "metadata": {},
     "output_type": "execute_result"
    }
   ],
   "source": [
    "neighborhoods = pd.merge(postal_df,geodata,on='Postal Code')\n",
    "neighborhoods "
   ]
  },
  {
   "cell_type": "code",
   "execution_count": 11,
   "metadata": {},
   "outputs": [
    {
     "data": {
      "text/plain": [
       "array(['North York', 'Downtown Toronto', 'Etobicoke', 'Scarborough',\n",
       "       'East York', 'York', 'East Toronto', 'West Toronto',\n",
       "       'Central Toronto', 'Mississauga'], dtype=object)"
      ]
     },
     "execution_count": 11,
     "metadata": {},
     "output_type": "execute_result"
    }
   ],
   "source": [
    "neighborhoods.Borough.unique()"
   ]
  },
  {
   "cell_type": "markdown",
   "metadata": {},
   "source": [
    "## Part 3"
   ]
  },
  {
   "cell_type": "markdown",
   "metadata": {},
   "source": [
    "We draw the map for the entire Toronto"
   ]
  },
  {
   "cell_type": "code",
   "execution_count": 12,
   "metadata": {},
   "outputs": [
    {
     "name": "stdout",
     "output_type": "stream",
     "text": [
      "The geograpical coordinate of Toronto are 43.6534817, -79.3839347.\n"
     ]
    }
   ],
   "source": [
    "address = 'Toronto'\n",
    "geolocator = Nominatim(user_agent=\"toronto\")\n",
    "location = geolocator.geocode(address)\n",
    "latitude = location.latitude\n",
    "longitude = location.longitude\n",
    "print('The geograpical coordinate of Toronto are {}, {}.'.format(latitude, longitude))"
   ]
  },
  {
   "cell_type": "code",
   "execution_count": 38,
   "metadata": {},
   "outputs": [
    {
     "data": {
      "text/html": [
       "<div style=\"width:100%;\"><div style=\"position:relative;width:100%;height:0;padding-bottom:60%;\"><span style=\"color:#565656\">Make this Notebook Trusted to load map: File -> Trust Notebook</span><iframe src=\"about:blank\" style=\"position:absolute;width:100%;height:100%;left:0;top:0;border:none !important;\" data-html=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 onload=\"this.contentDocument.open();this.contentDocument.write(atob(this.getAttribute('data-html')));this.contentDocument.close();\" allowfullscreen webkitallowfullscreen mozallowfullscreen></iframe></div></div>"
      ],
      "text/plain": [
       "<folium.folium.Map at 0x11de88880>"
      ]
     },
     "execution_count": 38,
     "metadata": {},
     "output_type": "execute_result"
    }
   ],
   "source": [
    "map_toronto = folium.Map(location=[latitude, longitude], zoom_start=10)\n",
    "\n",
    "# add markers to map\n",
    "for lat, lng, borough, neighborhood in zip(neighborhoods['Latitude'],\n",
    "                                           neighborhoods['Longitude'],\n",
    "                                           neighborhoods['Borough'],\n",
    "                                           neighborhoods['Neighbourhood']):\n",
    "    label = '{}, {}'.format(neighborhood, borough)\n",
    "    label = folium.Popup(label, parse_html=True)\n",
    "    folium.CircleMarker(\n",
    "        [lat, lng],\n",
    "        radius=5,\n",
    "        popup=label,\n",
    "        color='blue',\n",
    "        fill=True,\n",
    "        fill_color='#3186cc',\n",
    "        fill_opacity=0.7,\n",
    "        parse_html=False).add_to(map_toronto)  \n",
    "    \n",
    "map_toronto"
   ]
  },
  {
   "cell_type": "code",
   "execution_count": null,
   "metadata": {},
   "outputs": [],
   "source": []
  },
  {
   "cell_type": "markdown",
   "metadata": {},
   "source": [
    "We Consider all borough with name contains 'Toronto'"
   ]
  },
  {
   "cell_type": "code",
   "execution_count": 14,
   "metadata": {},
   "outputs": [
    {
     "name": "stdout",
     "output_type": "stream",
     "text": [
      "The geograpical coordinate of Downtow Toronto are 43.6541737, -79.38081164513409.\n"
     ]
    }
   ],
   "source": [
    "dt_data = neighborhoods[ (neighborhoods['Borough'] == 'Downtown Toronto') |\n",
    "                        (neighborhoods['Borough'] == 'East Toronto')|\n",
    "                        (neighborhoods['Borough'] == 'West Toronto')|\n",
    "                        (neighborhoods['Borough'] == 'Central Toronto')].reset_index(drop=True)\n",
    "address = 'Downtown Toronto'\n",
    "geolocator = Nominatim(user_agent=\"toronto\")\n",
    "location = geolocator.geocode(address)\n",
    "latitude = location.latitude\n",
    "longitude = location.longitude\n",
    "print('The geograpical coordinate of Downtow Toronto are {}, {}.'.format(latitude, longitude))"
   ]
  },
  {
   "cell_type": "markdown",
   "metadata": {},
   "source": [
    "Print the map of the neighbourhoods we consider"
   ]
  },
  {
   "cell_type": "code",
   "execution_count": 39,
   "metadata": {},
   "outputs": [
    {
     "data": {
      "text/html": [
       "<div style=\"width:100%;\"><div style=\"position:relative;width:100%;height:0;padding-bottom:60%;\"><span style=\"color:#565656\">Make this Notebook Trusted to load map: File -> Trust Notebook</span><iframe src=\"about:blank\" style=\"position:absolute;width:100%;height:100%;left:0;top:0;border:none !important;\" data-html=PCFET0NUWVBFIGh0bWw+CjxoZWFkPiAgICAKICAgIDxtZXRhIGh0dHAtZXF1aXY9ImNvbnRlbnQtdHlwZSIgY29udGVudD0idGV4dC9odG1sOyBjaGFyc2V0PVVURi04IiAvPgogICAgCiAgICAgICAgPHNjcmlwdD4KICAgICAgICAgICAgTF9OT19UT1VDSCA9IGZhbHNlOwogICAgICAgICAgICBMX0RJU0FCTEVfM0QgPSBmYWxzZTsKICAgICAgICA8L3NjcmlwdD4KICAgIAogICAgPHNjcmlwdCBzcmM9Imh0dHBzOi8vY2RuLmpzZGVsaXZyLm5ldC9ucG0vbGVhZmxldEAxLjYuMC9kaXN0L2xlYWZsZXQuanMiPjwvc2NyaXB0PgogICAgPHNjcmlwdCBzcmM9Imh0dHBzOi8vY29kZS5qcXVlcnkuY29tL2pxdWVyeS0xLjEyLjQubWluLmpzIj48L3NjcmlwdD4KICAgIDxzY3JpcHQgc3JjPSJodHRwczovL21heGNkbi5ib290c3RyYXBjZG4uY29tL2Jvb3RzdHJhcC8zLjIuMC9qcy9ib290c3RyYXAubWluLmpzIj48L3NjcmlwdD4KICAgIDxzY3JpcHQgc3JjPSJodHRwczovL2NkbmpzLmNsb3VkZmxhcmUuY29tL2FqYXgvbGlicy9MZWFmbGV0LmF3ZXNvbWUtbWFya2Vycy8yLjAuMi9sZWFmbGV0LmF3ZXNvbWUtbWFya2Vycy5qcyI+PC9zY3JpcHQ+CiAgICA8bGluayByZWw9InN0eWxlc2hlZXQiIGhyZWY9Imh0dHBzOi8vY2RuLmpzZGVsaXZyLm5ldC9ucG0vbGVhZmxldEAxLjYuMC9kaXN0L2xlYWZsZXQuY3NzIi8+CiAgICA8bGluayByZWw9InN0eWxlc2hlZXQiIGhyZWY9Imh0dHBzOi8vbWF4Y2RuLmJvb3RzdHJhcGNkbi5jb20vYm9vdHN0cmFwLzMuMi4wL2Nzcy9ib290c3RyYXAubWluLmNzcyIvPgogICAgPGxpbmsgcmVsPSJzdHlsZXNoZWV0IiBocmVmPSJodHRwczovL21heGNkbi5ib290c3RyYXBjZG4uY29tL2Jvb3RzdHJhcC8zLjIuMC9jc3MvYm9vdHN0cmFwLXRoZW1lLm1pbi5jc3MiLz4KICAgIDxsaW5rIHJlbD0ic3R5bGVzaGVldCIgaHJlZj0iaHR0cHM6Ly9tYXhjZG4uYm9vdHN0cmFwY2RuLmNvbS9mb250LWF3ZXNvbWUvNC42LjMvY3NzL2ZvbnQtYXdlc29tZS5taW4uY3NzIi8+CiAgICA8bGluayByZWw9InN0eWxlc2hlZXQiIGhyZWY9Imh0dHBzOi8vY2RuanMuY2xvdWRmbGFyZS5jb20vYWpheC9saWJzL0xlYWZsZXQuYXdlc29tZS1tYXJrZXJzLzIuMC4yL2xlYWZsZXQuYXdlc29tZS1tYXJrZXJzLmNzcyIvPgogICAgPGxpbmsgcmVsPSJzdHlsZXNoZWV0IiBocmVmPSJodHRwczovL3Jhd2Nkbi5naXRoYWNrLmNvbS9weXRob24tdmlzdWFsaXphdGlvbi9mb2xpdW0vbWFzdGVyL2ZvbGl1bS90ZW1wbGF0ZXMvbGVhZmxldC5hd2Vzb21lLnJvdGF0ZS5jc3MiLz4KICAgIDxzdHlsZT5odG1sLCBib2R5IHt3aWR0aDogMTAwJTtoZWlnaHQ6IDEwMCU7bWFyZ2luOiAwO3BhZGRpbmc6IDA7fTwvc3R5bGU+CiAgICA8c3R5bGU+I21hcCB7cG9zaXRpb246YWJzb2x1dGU7dG9wOjA7Ym90dG9tOjA7cmlnaHQ6MDtsZWZ0OjA7fTwvc3R5bGU+CiAgICAKICAgICAgICAgICAgPG1ldGEgbmFtZT0idmlld3BvcnQiIGNvbnRlbnQ9IndpZHRoPWRldmljZS13aWR0aCwKICAgICAgICAgICAgICAgIGluaXRpYWwtc2NhbGU9MS4wLCBtYXhpbXVtLXNjYWxlPTEuMCwgdXNlci1zY2FsYWJsZT1ubyIgLz4KICAgICAgICAgICAgPHN0eWxlPgogICAgICAgICAgICAgICAgI21hcF80ZDM0Y2JhOTNjYmM0NmQyYTE2NTRhNWIzZWVmM2QzNiB7CiAgICAgICAgICAgICAgICAgICAgcG9zaXRpb246IHJlbGF0aXZlOwogICAgICAgICAgICAgICAgICAgIHdpZHRoOiAxMDAuMCU7CiAgICAgICAgICAgICAgICAgICAgaGVpZ2h0OiAxMDAuMCU7CiAgICAgICAgICAgICAgICAgICAgbGVmdDogMC4wJTsKICAgICAgICAgICAgICAgICAgICB0b3A6IDAuMCU7CiAgICAgICAgICAgICAgICB9CiAgICAgICAgICAgIDwvc3R5bGU+CiAgICAgICAgCjwvaGVhZD4KPGJvZHk+ICAgIAogICAgCiAgICAgICAgICAgIDxkaXYgY2xhc3M9ImZvbGl1bS1tYXAiIGlkPSJtYXBfNGQzNGNiYTkzY2JjNDZkMmExNjU0YTViM2VlZjNkMzYiID48L2Rpdj4KICAgICAgICAKPC9ib2R5Pgo8c2NyaXB0PiAgICAKICAgIAogICAgICAgICAgICB2YXIgbWFwXzRkMzRjYmE5M2NiYzQ2ZDJhMTY1NGE1YjNlZWYzZDM2ID0gTC5tYXAoCiAgICAgICAgICAgICAgICAibWFwXzRkMzRjYmE5M2NiYzQ2ZDJhMTY1NGE1YjNlZWYzZDM2IiwKICAgICAgICAgICAgICAgIHsKICAgICAgICAgICAgICAgICAgICBjZW50ZXI6IFs0My42NTQxNzM3LCAtNzkuMzgwODExNjQ1MTM0MDldLAogICAgICAgICAgICAgICAgICAgIGNyczogTC5DUlMuRVBTRzM4NTcsCiAgICAgICAgICAgICAgICAgICAgem9vbTogMTEuNSwKICAgICAgICAgICAgICAgICAgICB6b29tQ29udHJvbDogdHJ1ZSwKICAgICAgICAgICAgICAgICAgICBwcmVmZXJDYW52YXM6IGZhbHNlLAogICAgICAgICAgICAgICAgfQogICAgICAgICAgICApOwoKICAgICAgICAgICAgCgogICAgICAgIAogICAgCiAgICAgICAgICAgIHZhciB0aWxlX2xheWVyX2MxY2FmYjUxNDNmOTRkNGU5ODBjZGVkZjlkOTM3MTE4ID0gTC50aWxlTGF5ZXIoCiAgICAgICAgICAgICAgICAiaHR0cHM6Ly97c30udGlsZS5vcGVuc3RyZWV0bWFwLm9yZy97en0ve3h9L3t5fS5wbmciLAogICAgICAgICAgICAgICAgeyJhdHRyaWJ1dGlvbiI6ICJEYXRhIGJ5IFx1MDAyNmNvcHk7IFx1MDAzY2EgaHJlZj1cImh0dHA6Ly9vcGVuc3RyZWV0bWFwLm9yZ1wiXHUwMDNlT3BlblN0cmVldE1hcFx1MDAzYy9hXHUwMDNlLCB1bmRlciBcdTAwM2NhIGhyZWY9XCJodHRwOi8vd3d3Lm9wZW5zdHJlZXRtYXAub3JnL2NvcHlyaWdodFwiXHUwMDNlT0RiTFx1MDAzYy9hXHUwMDNlLiIsICJkZXRlY3RSZXRpbmEiOiBmYWxzZSwgIm1heE5hdGl2ZVpvb20iOiAxOCwgIm1heFpvb20iOiAxOCwgIm1pblpvb20iOiAwLCAibm9XcmFwIjogZmFsc2UsICJvcGFjaXR5IjogMSwgInN1YmRvbWFpbnMiOiAiYWJjIiwgInRtcyI6IGZhbHNlfQogICAgICAgICAgICApLmFkZFRvKG1hcF80ZDM0Y2JhOTNjYmM0NmQyYTE2NTRhNWIzZWVmM2QzNik7CiAgICAgICAgCiAgICAKICAgICAgICAgICAgdmFyIGNpcmNsZV9tYXJrZXJfYjZmZjBiNGE3ZWQ3NDNkZjkzYjg1Njg0MmExMzYxMmUgPSBMLmNpcmNsZU1hcmtlcigKICAgICAgICAgICAgICAgIFs0My42NTQyNTk5LCAtNzkuMzYwNjM1OV0sCiAgICAgICAgICAgICAgICB7ImJ1YmJsaW5nTW91c2VFdmVudHMiOiB0cnVlLCAiY29sb3IiOiAiYmx1ZSIsICJkYXNoQXJyYXkiOiBudWxsLCAiZGFzaE9mZnNldCI6IG51bGwsICJmaWxsIjogdHJ1ZSwgImZpbGxDb2xvciI6ICIjMzE4NmNjIiwgImZpbGxPcGFjaXR5IjogMC43LCAiZmlsbFJ1bGUiOiAiZXZlbm9kZCIsICJsaW5lQ2FwIjogInJvdW5kIiwgImxpbmVKb2luIjogInJvdW5kIiwgIm9wYWNpdHkiOiAxLjAsICJyYWRpdXMiOiA1LCAic3Ryb2tlIjogdHJ1ZSwgIndlaWdodCI6IDN9CiAgICAgICAgICAgICkuYWRkVG8obWFwXzRkMzRjYmE5M2NiYzQ2ZDJhMTY1NGE1YjNlZWYzZDM2KTsKICAgICAgICAKICAgIAogICAgICAgIHZhciBwb3B1cF85ZmUzYjU5Y2RmNWU0ODU2Yjc5YWU2NzhlY2U1Nzc1YiA9IEwucG9wdXAoeyJtYXhXaWR0aCI6ICIxMDAlIn0pOwoKICAgICAgICAKICAgICAgICAgICAgdmFyIGh0bWxfN2U5NDI3YmMyOTA4NDgxYTgzYjhkOGM2Mjc0NDcxNjUgPSAkKGA8ZGl2IGlkPSJodG1sXzdlOTQyN2JjMjkwODQ4MWE4M2I4ZDhjNjI3NDQ3MTY1IiBzdHlsZT0id2lkdGg6IDEwMC4wJTsgaGVpZ2h0OiAxMDAuMCU7Ij5SZWdlbnQgUGFyaywgSGFyYm91cmZyb250LCBEb3dudG93biBUb3JvbnRvPC9kaXY+YClbMF07CiAgICAgICAgICAgIHBvcHVwXzlmZTNiNTljZGY1ZTQ4NTZiNzlhZTY3OGVjZTU3NzViLnNldENvbnRlbnQoaHRtbF83ZTk0MjdiYzI5MDg0ODFhODNiOGQ4YzYyNzQ0NzE2NSk7CiAgICAgICAgCgogICAgICAgIGNpcmNsZV9tYXJrZXJfYjZmZjBiNGE3ZWQ3NDNkZjkzYjg1Njg0MmExMzYxMmUuYmluZFBvcHVwKHBvcHVwXzlmZTNiNTljZGY1ZTQ4NTZiNzlhZTY3OGVjZTU3NzViKQogICAgICAgIDsKCiAgICAgICAgCiAgICAKICAgIAogICAgICAgICAgICB2YXIgY2lyY2xlX21hcmtlcl8wOTYyYWZlNjU2NDM0NzQwODg2NzFiN2Q1MmNkMGQ0ZiA9IEwuY2lyY2xlTWFya2VyKAogICAgICAgICAgICAgICAgWzQzLjY2MjMwMTUsIC03OS4zODk0OTM4XSwKICAgICAgICAgICAgICAgIHsiYnViYmxpbmdNb3VzZUV2ZW50cyI6IHRydWUsICJjb2xvciI6ICJibHVlIiwgImRhc2hBcnJheSI6IG51bGwsICJkYXNoT2Zmc2V0IjogbnVsbCwgImZpbGwiOiB0cnVlLCAiZmlsbENvbG9yIjogIiMzMTg2Y2MiLCAiZmlsbE9wYWNpdHkiOiAwLjcsICJmaWxsUnVsZSI6ICJldmVub2RkIiwgImxpbmVDYXAiOiAicm91bmQiLCAibGluZUpvaW4iOiAicm91bmQiLCAib3BhY2l0eSI6IDEuMCwgInJhZGl1cyI6IDUsICJzdHJva2UiOiB0cnVlLCAid2VpZ2h0IjogM30KICAgICAgICAgICAgKS5hZGRUbyhtYXBfNGQzNGNiYTkzY2JjNDZkMmExNjU0YTViM2VlZjNkMzYpOwogICAgICAgIAogICAgCiAgICAgICAgdmFyIHBvcHVwX2Q2ODFlOGMxOWQyMDRiNTlhNGY5MTdjNmJlZjQxMzI0ID0gTC5wb3B1cCh7Im1heFdpZHRoIjogIjEwMCUifSk7CgogICAgICAgIAogICAgICAgICAgICB2YXIgaHRtbF8xMDc0NWZkZGU1NjE0Y2YyODliMzJlZjg3NmVkZGU2ZCA9ICQoYDxkaXYgaWQ9Imh0bWxfMTA3NDVmZGRlNTYxNGNmMjg5YjMyZWY4NzZlZGRlNmQiIHN0eWxlPSJ3aWR0aDogMTAwLjAlOyBoZWlnaHQ6IDEwMC4wJTsiPlF1ZWVuJiMzOTtzIFBhcmssIE9udGFyaW8gUHJvdmluY2lhbCBHb3Zlcm5tZW50LCBEb3dudG93biBUb3JvbnRvPC9kaXY+YClbMF07CiAgICAgICAgICAgIHBvcHVwX2Q2ODFlOGMxOWQyMDRiNTlhNGY5MTdjNmJlZjQxMzI0LnNldENvbnRlbnQoaHRtbF8xMDc0NWZkZGU1NjE0Y2YyODliMzJlZjg3NmVkZGU2ZCk7CiAgICAgICAgCgogICAgICAgIGNpcmNsZV9tYXJrZXJfMDk2MmFmZTY1NjQzNDc0MDg4NjcxYjdkNTJjZDBkNGYuYmluZFBvcHVwKHBvcHVwX2Q2ODFlOGMxOWQyMDRiNTlhNGY5MTdjNmJlZjQxMzI0KQogICAgICAgIDsKCiAgICAgICAgCiAgICAKICAgIAogICAgICAgICAgICB2YXIgY2lyY2xlX21hcmtlcl9kYmI3MzdlYjZkYWI0ODNjOThlZDEzMWIwYzI4NmQzOSA9IEwuY2lyY2xlTWFya2VyKAogICAgICAgICAgICAgICAgWzQzLjY1NzE2MTgsIC03OS4zNzg5MzcwOTk5OTk5OV0sCiAgICAgICAgICAgICAgICB7ImJ1YmJsaW5nTW91c2VFdmVudHMiOiB0cnVlLCAiY29sb3IiOiAiYmx1ZSIsICJkYXNoQXJyYXkiOiBudWxsLCAiZGFzaE9mZnNldCI6IG51bGwsICJmaWxsIjogdHJ1ZSwgImZpbGxDb2xvciI6ICIjMzE4NmNjIiwgImZpbGxPcGFjaXR5IjogMC43LCAiZmlsbFJ1bGUiOiAiZXZlbm9kZCIsICJsaW5lQ2FwIjogInJvdW5kIiwgImxpbmVKb2luIjogInJvdW5kIiwgIm9wYWNpdHkiOiAxLjAsICJyYWRpdXMiOiA1LCAic3Ryb2tlIjogdHJ1ZSwgIndlaWdodCI6IDN9CiAgICAgICAgICAgICkuYWRkVG8obWFwXzRkMzRjYmE5M2NiYzQ2ZDJhMTY1NGE1YjNlZWYzZDM2KTsKICAgICAgICAKICAgIAogICAgICAgIHZhciBwb3B1cF8wOWExMDAwZmY1NWY0YjNkODI0NmQ2MjRmOGI4YzE4ZiA9IEwucG9wdXAoeyJtYXhXaWR0aCI6ICIxMDAlIn0pOwoKICAgICAgICAKICAgICAgICAgICAgdmFyIGh0bWxfMjVjZjE4OWVkMTE0NGFlYmEzMGUxZGIzMzRiMWViZDYgPSAkKGA8ZGl2IGlkPSJodG1sXzI1Y2YxODllZDExNDRhZWJhMzBlMWRiMzM0YjFlYmQ2IiBzdHlsZT0id2lkdGg6IDEwMC4wJTsgaGVpZ2h0OiAxMDAuMCU7Ij5HYXJkZW4gRGlzdHJpY3QsIFJ5ZXJzb24sIERvd250b3duIFRvcm9udG88L2Rpdj5gKVswXTsKICAgICAgICAgICAgcG9wdXBfMDlhMTAwMGZmNTVmNGIzZDgyNDZkNjI0ZjhiOGMxOGYuc2V0Q29udGVudChodG1sXzI1Y2YxODllZDExNDRhZWJhMzBlMWRiMzM0YjFlYmQ2KTsKICAgICAgICAKCiAgICAgICAgY2lyY2xlX21hcmtlcl9kYmI3MzdlYjZkYWI0ODNjOThlZDEzMWIwYzI4NmQzOS5iaW5kUG9wdXAocG9wdXBfMDlhMTAwMGZmNTVmNGIzZDgyNDZkNjI0ZjhiOGMxOGYpCiAgICAgICAgOwoKICAgICAgICAKICAgIAogICAgCiAgICAgICAgICAgIHZhciBjaXJjbGVfbWFya2VyXzA2MWRlMTY2NGE2OTRmODc4N2FlNGQ2ZTk5ZjI5ZjUzID0gTC5jaXJjbGVNYXJrZXIoCiAgICAgICAgICAgICAgICBbNDMuNjUxNDkzOSwgLTc5LjM3NTQxNzldLAogICAgICAgICAgICAgICAgeyJidWJibGluZ01vdXNlRXZlbnRzIjogdHJ1ZSwgImNvbG9yIjogImJsdWUiLCAiZGFzaEFycmF5IjogbnVsbCwgImRhc2hPZmZzZXQiOiBudWxsLCAiZmlsbCI6IHRydWUsICJmaWxsQ29sb3IiOiAiIzMxODZjYyIsICJmaWxsT3BhY2l0eSI6IDAuNywgImZpbGxSdWxlIjogImV2ZW5vZGQiLCAibGluZUNhcCI6ICJyb3VuZCIsICJsaW5lSm9pbiI6ICJyb3VuZCIsICJvcGFjaXR5IjogMS4wLCAicmFkaXVzIjogNSwgInN0cm9rZSI6IHRydWUsICJ3ZWlnaHQiOiAzfQogICAgICAgICAgICApLmFkZFRvKG1hcF80ZDM0Y2JhOTNjYmM0NmQyYTE2NTRhNWIzZWVmM2QzNik7CiAgICAgICAgCiAgICAKICAgICAgICB2YXIgcG9wdXBfNWY1ZjZmMDE0MmQ2NDI2Njk0MjQ1Mzc1Y2JiYTQ4OGQgPSBMLnBvcHVwKHsibWF4V2lkdGgiOiAiMTAwJSJ9KTsKCiAgICAgICAgCiAgICAgICAgICAgIHZhciBodG1sX2M4YWNiMTA0NWQ0NzQ1NTRhYTkzZThhMjAwZWNmMzM3ID0gJChgPGRpdiBpZD0iaHRtbF9jOGFjYjEwNDVkNDc0NTU0YWE5M2U4YTIwMGVjZjMzNyIgc3R5bGU9IndpZHRoOiAxMDAuMCU7IGhlaWdodDogMTAwLjAlOyI+U3QuIEphbWVzIFRvd24sIERvd250b3duIFRvcm9udG88L2Rpdj5gKVswXTsKICAgICAgICAgICAgcG9wdXBfNWY1ZjZmMDE0MmQ2NDI2Njk0MjQ1Mzc1Y2JiYTQ4OGQuc2V0Q29udGVudChodG1sX2M4YWNiMTA0NWQ0NzQ1NTRhYTkzZThhMjAwZWNmMzM3KTsKICAgICAgICAKCiAgICAgICAgY2lyY2xlX21hcmtlcl8wNjFkZTE2NjRhNjk0Zjg3ODdhZTRkNmU5OWYyOWY1My5iaW5kUG9wdXAocG9wdXBfNWY1ZjZmMDE0MmQ2NDI2Njk0MjQ1Mzc1Y2JiYTQ4OGQpCiAgICAgICAgOwoKICAgICAgICAKICAgIAogICAgCiAgICAgICAgICAgIHZhciBjaXJjbGVfbWFya2VyXzFkOGEwNTRkODE4ZDQ5NTNhZDRmOTUzMjA5NmQ1NjEzID0gTC5jaXJjbGVNYXJrZXIoCiAgICAgICAgICAgICAgICBbNDMuNjc2MzU3Mzk5OTk5OTksIC03OS4yOTMwMzEyXSwKICAgICAgICAgICAgICAgIHsiYnViYmxpbmdNb3VzZUV2ZW50cyI6IHRydWUsICJjb2xvciI6ICJibHVlIiwgImRhc2hBcnJheSI6IG51bGwsICJkYXNoT2Zmc2V0IjogbnVsbCwgImZpbGwiOiB0cnVlLCAiZmlsbENvbG9yIjogIiMzMTg2Y2MiLCAiZmlsbE9wYWNpdHkiOiAwLjcsICJmaWxsUnVsZSI6ICJldmVub2RkIiwgImxpbmVDYXAiOiAicm91bmQiLCAibGluZUpvaW4iOiAicm91bmQiLCAib3BhY2l0eSI6IDEuMCwgInJhZGl1cyI6IDUsICJzdHJva2UiOiB0cnVlLCAid2VpZ2h0IjogM30KICAgICAgICAgICAgKS5hZGRUbyhtYXBfNGQzNGNiYTkzY2JjNDZkMmExNjU0YTViM2VlZjNkMzYpOwogICAgICAgIAogICAgCiAgICAgICAgdmFyIHBvcHVwXzg2MGI0ZGRmYTgxMzRjZDg5YTMyOGNhODZjNTM2OWY2ID0gTC5wb3B1cCh7Im1heFdpZHRoIjogIjEwMCUifSk7CgogICAgICAgIAogICAgICAgICAgICB2YXIgaHRtbF83ZjBhZGExOTQxZmM0NzA2Yjc4OTczNjI4ZDFkN2RmOCA9ICQoYDxkaXYgaWQ9Imh0bWxfN2YwYWRhMTk0MWZjNDcwNmI3ODk3MzYyOGQxZDdkZjgiIHN0eWxlPSJ3aWR0aDogMTAwLjAlOyBoZWlnaHQ6IDEwMC4wJTsiPlRoZSBCZWFjaGVzLCBFYXN0IFRvcm9udG88L2Rpdj5gKVswXTsKICAgICAgICAgICAgcG9wdXBfODYwYjRkZGZhODEzNGNkODlhMzI4Y2E4NmM1MzY5ZjYuc2V0Q29udGVudChodG1sXzdmMGFkYTE5NDFmYzQ3MDZiNzg5NzM2MjhkMWQ3ZGY4KTsKICAgICAgICAKCiAgICAgICAgY2lyY2xlX21hcmtlcl8xZDhhMDU0ZDgxOGQ0OTUzYWQ0Zjk1MzIwOTZkNTYxMy5iaW5kUG9wdXAocG9wdXBfODYwYjRkZGZhODEzNGNkODlhMzI4Y2E4NmM1MzY5ZjYpCiAgICAgICAgOwoKICAgICAgICAKICAgIAogICAgCiAgICAgICAgICAgIHZhciBjaXJjbGVfbWFya2VyXzBhYzNlZmE5ZTkzNjQyM2Q4NjJmOTFiMTJkYTI2ZTY1ID0gTC5jaXJjbGVNYXJrZXIoCiAgICAgICAgICAgICAgICBbNDMuNjQ0NzcwNzk5OTk5OTk2LCAtNzkuMzczMzA2NF0sCiAgICAgICAgICAgICAgICB7ImJ1YmJsaW5nTW91c2VFdmVudHMiOiB0cnVlLCAiY29sb3IiOiAiYmx1ZSIsICJkYXNoQXJyYXkiOiBudWxsLCAiZGFzaE9mZnNldCI6IG51bGwsICJmaWxsIjogdHJ1ZSwgImZpbGxDb2xvciI6ICIjMzE4NmNjIiwgImZpbGxPcGFjaXR5IjogMC43LCAiZmlsbFJ1bGUiOiAiZXZlbm9kZCIsICJsaW5lQ2FwIjogInJvdW5kIiwgImxpbmVKb2luIjogInJvdW5kIiwgIm9wYWNpdHkiOiAxLjAsICJyYWRpdXMiOiA1LCAic3Ryb2tlIjogdHJ1ZSwgIndlaWdodCI6IDN9CiAgICAgICAgICAgICkuYWRkVG8obWFwXzRkMzRjYmE5M2NiYzQ2ZDJhMTY1NGE1YjNlZWYzZDM2KTsKICAgICAgICAKICAgIAogICAgICAgIHZhciBwb3B1cF8wM2U4Y2Y5OGEyODI0MjJiOGUyNmZlMmJhOWY5ZDA0OCA9IEwucG9wdXAoeyJtYXhXaWR0aCI6ICIxMDAlIn0pOwoKICAgICAgICAKICAgICAgICAgICAgdmFyIGh0bWxfODgzMTg5YzYyYmEyNDMxNjk2NWViMzIzZDNmYzY3MTAgPSAkKGA8ZGl2IGlkPSJodG1sXzg4MzE4OWM2MmJhMjQzMTY5NjVlYjMyM2QzZmM2NzEwIiBzdHlsZT0id2lkdGg6IDEwMC4wJTsgaGVpZ2h0OiAxMDAuMCU7Ij5CZXJjenkgUGFyaywgRG93bnRvd24gVG9yb250bzwvZGl2PmApWzBdOwogICAgICAgICAgICBwb3B1cF8wM2U4Y2Y5OGEyODI0MjJiOGUyNmZlMmJhOWY5ZDA0OC5zZXRDb250ZW50KGh0bWxfODgzMTg5YzYyYmEyNDMxNjk2NWViMzIzZDNmYzY3MTApOwogICAgICAgIAoKICAgICAgICBjaXJjbGVfbWFya2VyXzBhYzNlZmE5ZTkzNjQyM2Q4NjJmOTFiMTJkYTI2ZTY1LmJpbmRQb3B1cChwb3B1cF8wM2U4Y2Y5OGEyODI0MjJiOGUyNmZlMmJhOWY5ZDA0OCkKICAgICAgICA7CgogICAgICAgIAogICAgCiAgICAKICAgICAgICAgICAgdmFyIGNpcmNsZV9tYXJrZXJfMDJmZTQyNzY4ODU1NGUxNTg2NWFjOGVmOGExMTg2YTUgPSBMLmNpcmNsZU1hcmtlcigKICAgICAgICAgICAgICAgIFs0My42NTc5NTI0LCAtNzkuMzg3MzgyNl0sCiAgICAgICAgICAgICAgICB7ImJ1YmJsaW5nTW91c2VFdmVudHMiOiB0cnVlLCAiY29sb3IiOiAiYmx1ZSIsICJkYXNoQXJyYXkiOiBudWxsLCAiZGFzaE9mZnNldCI6IG51bGwsICJmaWxsIjogdHJ1ZSwgImZpbGxDb2xvciI6ICIjMzE4NmNjIiwgImZpbGxPcGFjaXR5IjogMC43LCAiZmlsbFJ1bGUiOiAiZXZlbm9kZCIsICJsaW5lQ2FwIjogInJvdW5kIiwgImxpbmVKb2luIjogInJvdW5kIiwgIm9wYWNpdHkiOiAxLjAsICJyYWRpdXMiOiA1LCAic3Ryb2tlIjogdHJ1ZSwgIndlaWdodCI6IDN9CiAgICAgICAgICAgICkuYWRkVG8obWFwXzRkMzRjYmE5M2NiYzQ2ZDJhMTY1NGE1YjNlZWYzZDM2KTsKICAgICAgICAKICAgIAogICAgICAgIHZhciBwb3B1cF84YmUwNzhkOGIyMzg0MWRjOGZlYWM3ODRiNzNmMjZhZSA9IEwucG9wdXAoeyJtYXhXaWR0aCI6ICIxMDAlIn0pOwoKICAgICAgICAKICAgICAgICAgICAgdmFyIGh0bWxfOGQ0MDk5MzgwMjY1NGEyMGIzMDNhMjc4NDk1ZmFhNjYgPSAkKGA8ZGl2IGlkPSJodG1sXzhkNDA5OTM4MDI2NTRhMjBiMzAzYTI3ODQ5NWZhYTY2IiBzdHlsZT0id2lkdGg6IDEwMC4wJTsgaGVpZ2h0OiAxMDAuMCU7Ij5DZW50cmFsIEJheSBTdHJlZXQsIERvd250b3duIFRvcm9udG88L2Rpdj5gKVswXTsKICAgICAgICAgICAgcG9wdXBfOGJlMDc4ZDhiMjM4NDFkYzhmZWFjNzg0YjczZjI2YWUuc2V0Q29udGVudChodG1sXzhkNDA5OTM4MDI2NTRhMjBiMzAzYTI3ODQ5NWZhYTY2KTsKICAgICAgICAKCiAgICAgICAgY2lyY2xlX21hcmtlcl8wMmZlNDI3Njg4NTU0ZTE1ODY1YWM4ZWY4YTExODZhNS5iaW5kUG9wdXAocG9wdXBfOGJlMDc4ZDhiMjM4NDFkYzhmZWFjNzg0YjczZjI2YWUpCiAgICAgICAgOwoKICAgICAgICAKICAgIAogICAgCiAgICAgICAgICAgIHZhciBjaXJjbGVfbWFya2VyX2U2M2FlYzVhNDAwMTQ3YjY5YjE3ZDQxMjk3MzRjYWQ5ID0gTC5jaXJjbGVNYXJrZXIoCiAgICAgICAgICAgICAgICBbNDMuNjY5NTQyLCAtNzkuNDIyNTYzN10sCiAgICAgICAgICAgICAgICB7ImJ1YmJsaW5nTW91c2VFdmVudHMiOiB0cnVlLCAiY29sb3IiOiAiYmx1ZSIsICJkYXNoQXJyYXkiOiBudWxsLCAiZGFzaE9mZnNldCI6IG51bGwsICJmaWxsIjogdHJ1ZSwgImZpbGxDb2xvciI6ICIjMzE4NmNjIiwgImZpbGxPcGFjaXR5IjogMC43LCAiZmlsbFJ1bGUiOiAiZXZlbm9kZCIsICJsaW5lQ2FwIjogInJvdW5kIiwgImxpbmVKb2luIjogInJvdW5kIiwgIm9wYWNpdHkiOiAxLjAsICJyYWRpdXMiOiA1LCAic3Ryb2tlIjogdHJ1ZSwgIndlaWdodCI6IDN9CiAgICAgICAgICAgICkuYWRkVG8obWFwXzRkMzRjYmE5M2NiYzQ2ZDJhMTY1NGE1YjNlZWYzZDM2KTsKICAgICAgICAKICAgIAogICAgICAgIHZhciBwb3B1cF9hZTIyMzExOGZjZjU0M2I1OGM1YzA5ZTYxNWU0MGY5OSA9IEwucG9wdXAoeyJtYXhXaWR0aCI6ICIxMDAlIn0pOwoKICAgICAgICAKICAgICAgICAgICAgdmFyIGh0bWxfOTU4NTk5MjUwZjdkNGViZTliOTA1ZmU3MjEzNjZjYmEgPSAkKGA8ZGl2IGlkPSJodG1sXzk1ODU5OTI1MGY3ZDRlYmU5YjkwNWZlNzIxMzY2Y2JhIiBzdHlsZT0id2lkdGg6IDEwMC4wJTsgaGVpZ2h0OiAxMDAuMCU7Ij5DaHJpc3RpZSwgRG93bnRvd24gVG9yb250bzwvZGl2PmApWzBdOwogICAgICAgICAgICBwb3B1cF9hZTIyMzExOGZjZjU0M2I1OGM1YzA5ZTYxNWU0MGY5OS5zZXRDb250ZW50KGh0bWxfOTU4NTk5MjUwZjdkNGViZTliOTA1ZmU3MjEzNjZjYmEpOwogICAgICAgIAoKICAgICAgICBjaXJjbGVfbWFya2VyX2U2M2FlYzVhNDAwMTQ3YjY5YjE3ZDQxMjk3MzRjYWQ5LmJpbmRQb3B1cChwb3B1cF9hZTIyMzExOGZjZjU0M2I1OGM1YzA5ZTYxNWU0MGY5OSkKICAgICAgICA7CgogICAgICAgIAogICAgCiAgICAKICAgICAgICAgICAgdmFyIGNpcmNsZV9tYXJrZXJfODJlZDA1NzI2OGRhNDQ3ZGJmZTI3Y2MwYjJkMzczMDIgPSBMLmNpcmNsZU1hcmtlcigKICAgICAgICAgICAgICAgIFs0My42NTA1NzEyMDAwMDAwMSwgLTc5LjM4NDU2NzVdLAogICAgICAgICAgICAgICAgeyJidWJibGluZ01vdXNlRXZlbnRzIjogdHJ1ZSwgImNvbG9yIjogImJsdWUiLCAiZGFzaEFycmF5IjogbnVsbCwgImRhc2hPZmZzZXQiOiBudWxsLCAiZmlsbCI6IHRydWUsICJmaWxsQ29sb3IiOiAiIzMxODZjYyIsICJmaWxsT3BhY2l0eSI6IDAuNywgImZpbGxSdWxlIjogImV2ZW5vZGQiLCAibGluZUNhcCI6ICJyb3VuZCIsICJsaW5lSm9pbiI6ICJyb3VuZCIsICJvcGFjaXR5IjogMS4wLCAicmFkaXVzIjogNSwgInN0cm9rZSI6IHRydWUsICJ3ZWlnaHQiOiAzfQogICAgICAgICAgICApLmFkZFRvKG1hcF80ZDM0Y2JhOTNjYmM0NmQyYTE2NTRhNWIzZWVmM2QzNik7CiAgICAgICAgCiAgICAKICAgICAgICB2YXIgcG9wdXBfZTY5OWEzMjQ2YTAwNGU2OGI0ZGJhMTg4OTY2N2I0MzUgPSBMLnBvcHVwKHsibWF4V2lkdGgiOiAiMTAwJSJ9KTsKCiAgICAgICAgCiAgICAgICAgICAgIHZhciBodG1sX2Y5MzFjZTA4N2I0ODQ5NzBhYzE3MjdhYjU1ZTk4OTBlID0gJChgPGRpdiBpZD0iaHRtbF9mOTMxY2UwODdiNDg0OTcwYWMxNzI3YWI1NWU5ODkwZSIgc3R5bGU9IndpZHRoOiAxMDAuMCU7IGhlaWdodDogMTAwLjAlOyI+UmljaG1vbmQsIEFkZWxhaWRlLCBLaW5nLCBEb3dudG93biBUb3JvbnRvPC9kaXY+YClbMF07CiAgICAgICAgICAgIHBvcHVwX2U2OTlhMzI0NmEwMDRlNjhiNGRiYTE4ODk2NjdiNDM1LnNldENvbnRlbnQoaHRtbF9mOTMxY2UwODdiNDg0OTcwYWMxNzI3YWI1NWU5ODkwZSk7CiAgICAgICAgCgogICAgICAgIGNpcmNsZV9tYXJrZXJfODJlZDA1NzI2OGRhNDQ3ZGJmZTI3Y2MwYjJkMzczMDIuYmluZFBvcHVwKHBvcHVwX2U2OTlhMzI0NmEwMDRlNjhiNGRiYTE4ODk2NjdiNDM1KQogICAgICAgIDsKCiAgICAgICAgCiAgICAKICAgIAogICAgICAgICAgICB2YXIgY2lyY2xlX21hcmtlcl8wZWNkZjVjZGViOWY0MmViOTA0M2E5MDMxZjllOWFmMCA9IEwuY2lyY2xlTWFya2VyKAogICAgICAgICAgICAgICAgWzQzLjY2OTAwNTEwMDAwMDAxLCAtNzkuNDQyMjU5M10sCiAgICAgICAgICAgICAgICB7ImJ1YmJsaW5nTW91c2VFdmVudHMiOiB0cnVlLCAiY29sb3IiOiAiYmx1ZSIsICJkYXNoQXJyYXkiOiBudWxsLCAiZGFzaE9mZnNldCI6IG51bGwsICJmaWxsIjogdHJ1ZSwgImZpbGxDb2xvciI6ICIjMzE4NmNjIiwgImZpbGxPcGFjaXR5IjogMC43LCAiZmlsbFJ1bGUiOiAiZXZlbm9kZCIsICJsaW5lQ2FwIjogInJvdW5kIiwgImxpbmVKb2luIjogInJvdW5kIiwgIm9wYWNpdHkiOiAxLjAsICJyYWRpdXMiOiA1LCAic3Ryb2tlIjogdHJ1ZSwgIndlaWdodCI6IDN9CiAgICAgICAgICAgICkuYWRkVG8obWFwXzRkMzRjYmE5M2NiYzQ2ZDJhMTY1NGE1YjNlZWYzZDM2KTsKICAgICAgICAKICAgIAogICAgICAgIHZhciBwb3B1cF83ZDJjYzEyOTRjZTI0YmNhODEyOTBiNWNmODIwYzkzNyA9IEwucG9wdXAoeyJtYXhXaWR0aCI6ICIxMDAlIn0pOwoKICAgICAgICAKICAgICAgICAgICAgdmFyIGh0bWxfNTQxMjAxYTBkODlkNGMzMmExMWJmZmNkMzA1Njc5M2IgPSAkKGA8ZGl2IGlkPSJodG1sXzU0MTIwMWEwZDg5ZDRjMzJhMTFiZmZjZDMwNTY3OTNiIiBzdHlsZT0id2lkdGg6IDEwMC4wJTsgaGVpZ2h0OiAxMDAuMCU7Ij5EdWZmZXJpbiwgRG92ZXJjb3VydCBWaWxsYWdlLCBXZXN0IFRvcm9udG88L2Rpdj5gKVswXTsKICAgICAgICAgICAgcG9wdXBfN2QyY2MxMjk0Y2UyNGJjYTgxMjkwYjVjZjgyMGM5Mzcuc2V0Q29udGVudChodG1sXzU0MTIwMWEwZDg5ZDRjMzJhMTFiZmZjZDMwNTY3OTNiKTsKICAgICAgICAKCiAgICAgICAgY2lyY2xlX21hcmtlcl8wZWNkZjVjZGViOWY0MmViOTA0M2E5MDMxZjllOWFmMC5iaW5kUG9wdXAocG9wdXBfN2QyY2MxMjk0Y2UyNGJjYTgxMjkwYjVjZjgyMGM5MzcpCiAgICAgICAgOwoKICAgICAgICAKICAgIAogICAgCiAgICAgICAgICAgIHZhciBjaXJjbGVfbWFya2VyXzc2ODQ2M2E1OGE5ZjQ4ZDZhNjlhZDJiY2VhZjE0NTZlID0gTC5jaXJjbGVNYXJrZXIoCiAgICAgICAgICAgICAgICBbNDMuNjQwODE1NywgLTc5LjM4MTc1MjI5OTk5OTk5XSwKICAgICAgICAgICAgICAgIHsiYnViYmxpbmdNb3VzZUV2ZW50cyI6IHRydWUsICJjb2xvciI6ICJibHVlIiwgImRhc2hBcnJheSI6IG51bGwsICJkYXNoT2Zmc2V0IjogbnVsbCwgImZpbGwiOiB0cnVlLCAiZmlsbENvbG9yIjogIiMzMTg2Y2MiLCAiZmlsbE9wYWNpdHkiOiAwLjcsICJmaWxsUnVsZSI6ICJldmVub2RkIiwgImxpbmVDYXAiOiAicm91bmQiLCAibGluZUpvaW4iOiAicm91bmQiLCAib3BhY2l0eSI6IDEuMCwgInJhZGl1cyI6IDUsICJzdHJva2UiOiB0cnVlLCAid2VpZ2h0IjogM30KICAgICAgICAgICAgKS5hZGRUbyhtYXBfNGQzNGNiYTkzY2JjNDZkMmExNjU0YTViM2VlZjNkMzYpOwogICAgICAgIAogICAgCiAgICAgICAgdmFyIHBvcHVwX2M1YzJiMzE2OGNjNjRmMGViODE0NmE0NDkwZTA3OWRlID0gTC5wb3B1cCh7Im1heFdpZHRoIjogIjEwMCUifSk7CgogICAgICAgIAogICAgICAgICAgICB2YXIgaHRtbF9hNjJjOTdjMDkwYzM0ZWUwOTYxODg3NTQ3Zjg5MDViNCA9ICQoYDxkaXYgaWQ9Imh0bWxfYTYyYzk3YzA5MGMzNGVlMDk2MTg4NzU0N2Y4OTA1YjQiIHN0eWxlPSJ3aWR0aDogMTAwLjAlOyBoZWlnaHQ6IDEwMC4wJTsiPkhhcmJvdXJmcm9udCBFYXN0LCBVbmlvbiBTdGF0aW9uLCBUb3JvbnRvIElzbGFuZHMsIERvd250b3duIFRvcm9udG88L2Rpdj5gKVswXTsKICAgICAgICAgICAgcG9wdXBfYzVjMmIzMTY4Y2M2NGYwZWI4MTQ2YTQ0OTBlMDc5ZGUuc2V0Q29udGVudChodG1sX2E2MmM5N2MwOTBjMzRlZTA5NjE4ODc1NDdmODkwNWI0KTsKICAgICAgICAKCiAgICAgICAgY2lyY2xlX21hcmtlcl83Njg0NjNhNThhOWY0OGQ2YTY5YWQyYmNlYWYxNDU2ZS5iaW5kUG9wdXAocG9wdXBfYzVjMmIzMTY4Y2M2NGYwZWI4MTQ2YTQ0OTBlMDc5ZGUpCiAgICAgICAgOwoKICAgICAgICAKICAgIAogICAgCiAgICAgICAgICAgIHZhciBjaXJjbGVfbWFya2VyXzc4OThhZTY4NzUwNTRlZDdiOTNmMDdiYzk5YzhlMWRkID0gTC5jaXJjbGVNYXJrZXIoCiAgICAgICAgICAgICAgICBbNDMuNjQ3OTI2NzAwMDAwMDA2LCAtNzkuNDE5NzQ5N10sCiAgICAgICAgICAgICAgICB7ImJ1YmJsaW5nTW91c2VFdmVudHMiOiB0cnVlLCAiY29sb3IiOiAiYmx1ZSIsICJkYXNoQXJyYXkiOiBudWxsLCAiZGFzaE9mZnNldCI6IG51bGwsICJmaWxsIjogdHJ1ZSwgImZpbGxDb2xvciI6ICIjMzE4NmNjIiwgImZpbGxPcGFjaXR5IjogMC43LCAiZmlsbFJ1bGUiOiAiZXZlbm9kZCIsICJsaW5lQ2FwIjogInJvdW5kIiwgImxpbmVKb2luIjogInJvdW5kIiwgIm9wYWNpdHkiOiAxLjAsICJyYWRpdXMiOiA1LCAic3Ryb2tlIjogdHJ1ZSwgIndlaWdodCI6IDN9CiAgICAgICAgICAgICkuYWRkVG8obWFwXzRkMzRjYmE5M2NiYzQ2ZDJhMTY1NGE1YjNlZWYzZDM2KTsKICAgICAgICAKICAgIAogICAgICAgIHZhciBwb3B1cF9jZGEzMjkwZDNmOGQ0YjllOTk3MjlhMzgwMWFjOWM2NSA9IEwucG9wdXAoeyJtYXhXaWR0aCI6ICIxMDAlIn0pOwoKICAgICAgICAKICAgICAgICAgICAgdmFyIGh0bWxfMzU3M2Q0OWFmNGZiNDM0NDg3ZmUxNDc5ZDM2NzFkM2QgPSAkKGA8ZGl2IGlkPSJodG1sXzM1NzNkNDlhZjRmYjQzNDQ4N2ZlMTQ3OWQzNjcxZDNkIiBzdHlsZT0id2lkdGg6IDEwMC4wJTsgaGVpZ2h0OiAxMDAuMCU7Ij5MaXR0bGUgUG9ydHVnYWwsIFRyaW5pdHksIFdlc3QgVG9yb250bzwvZGl2PmApWzBdOwogICAgICAgICAgICBwb3B1cF9jZGEzMjkwZDNmOGQ0YjllOTk3MjlhMzgwMWFjOWM2NS5zZXRDb250ZW50KGh0bWxfMzU3M2Q0OWFmNGZiNDM0NDg3ZmUxNDc5ZDM2NzFkM2QpOwogICAgICAgIAoKICAgICAgICBjaXJjbGVfbWFya2VyXzc4OThhZTY4NzUwNTRlZDdiOTNmMDdiYzk5YzhlMWRkLmJpbmRQb3B1cChwb3B1cF9jZGEzMjkwZDNmOGQ0YjllOTk3MjlhMzgwMWFjOWM2NSkKICAgICAgICA7CgogICAgICAgIAogICAgCiAgICAKICAgICAgICAgICAgdmFyIGNpcmNsZV9tYXJrZXJfNjdjMDJhNzc3M2YwNGUzYWI3OTIzMWQ0MmRlNzNiOGIgPSBMLmNpcmNsZU1hcmtlcigKICAgICAgICAgICAgICAgIFs0My42Nzk1NTcxLCAtNzkuMzUyMTg4XSwKICAgICAgICAgICAgICAgIHsiYnViYmxpbmdNb3VzZUV2ZW50cyI6IHRydWUsICJjb2xvciI6ICJibHVlIiwgImRhc2hBcnJheSI6IG51bGwsICJkYXNoT2Zmc2V0IjogbnVsbCwgImZpbGwiOiB0cnVlLCAiZmlsbENvbG9yIjogIiMzMTg2Y2MiLCAiZmlsbE9wYWNpdHkiOiAwLjcsICJmaWxsUnVsZSI6ICJldmVub2RkIiwgImxpbmVDYXAiOiAicm91bmQiLCAibGluZUpvaW4iOiAicm91bmQiLCAib3BhY2l0eSI6IDEuMCwgInJhZGl1cyI6IDUsICJzdHJva2UiOiB0cnVlLCAid2VpZ2h0IjogM30KICAgICAgICAgICAgKS5hZGRUbyhtYXBfNGQzNGNiYTkzY2JjNDZkMmExNjU0YTViM2VlZjNkMzYpOwogICAgICAgIAogICAgCiAgICAgICAgdmFyIHBvcHVwXzRiOThmMTRkM2M4MzQ3NjE5MjExMWY0Zjc0MjhkM2QzID0gTC5wb3B1cCh7Im1heFdpZHRoIjogIjEwMCUifSk7CgogICAgICAgIAogICAgICAgICAgICB2YXIgaHRtbF9iNTYyNzUzMzA3NTA0MzVmYmYwYzI1OTQyODU2NmY2MCA9ICQoYDxkaXYgaWQ9Imh0bWxfYjU2Mjc1MzMwNzUwNDM1ZmJmMGMyNTk0Mjg1NjZmNjAiIHN0eWxlPSJ3aWR0aDogMTAwLjAlOyBoZWlnaHQ6IDEwMC4wJTsiPlRoZSBEYW5mb3J0aCBXZXN0LCBSaXZlcmRhbGUsIEVhc3QgVG9yb250bzwvZGl2PmApWzBdOwogICAgICAgICAgICBwb3B1cF80Yjk4ZjE0ZDNjODM0NzYxOTIxMTFmNGY3NDI4ZDNkMy5zZXRDb250ZW50KGh0bWxfYjU2Mjc1MzMwNzUwNDM1ZmJmMGMyNTk0Mjg1NjZmNjApOwogICAgICAgIAoKICAgICAgICBjaXJjbGVfbWFya2VyXzY3YzAyYTc3NzNmMDRlM2FiNzkyMzFkNDJkZTczYjhiLmJpbmRQb3B1cChwb3B1cF80Yjk4ZjE0ZDNjODM0NzYxOTIxMTFmNGY3NDI4ZDNkMykKICAgICAgICA7CgogICAgICAgIAogICAgCiAgICAKICAgICAgICAgICAgdmFyIGNpcmNsZV9tYXJrZXJfMmVmYzNhOWZlM2U5NDk1ZTg2NWZmNDA0YjIxMTgwMTggPSBMLmNpcmNsZU1hcmtlcigKICAgICAgICAgICAgICAgIFs0My42NDcxNzY4LCAtNzkuMzgxNTc2NDAwMDAwMDFdLAogICAgICAgICAgICAgICAgeyJidWJibGluZ01vdXNlRXZlbnRzIjogdHJ1ZSwgImNvbG9yIjogImJsdWUiLCAiZGFzaEFycmF5IjogbnVsbCwgImRhc2hPZmZzZXQiOiBudWxsLCAiZmlsbCI6IHRydWUsICJmaWxsQ29sb3IiOiAiIzMxODZjYyIsICJmaWxsT3BhY2l0eSI6IDAuNywgImZpbGxSdWxlIjogImV2ZW5vZGQiLCAibGluZUNhcCI6ICJyb3VuZCIsICJsaW5lSm9pbiI6ICJyb3VuZCIsICJvcGFjaXR5IjogMS4wLCAicmFkaXVzIjogNSwgInN0cm9rZSI6IHRydWUsICJ3ZWlnaHQiOiAzfQogICAgICAgICAgICApLmFkZFRvKG1hcF80ZDM0Y2JhOTNjYmM0NmQyYTE2NTRhNWIzZWVmM2QzNik7CiAgICAgICAgCiAgICAKICAgICAgICB2YXIgcG9wdXBfNmUzY2NiNmQ3YWE3NDBiYmE4MmVmYWQ0OWVmYTc1YmUgPSBMLnBvcHVwKHsibWF4V2lkdGgiOiAiMTAwJSJ9KTsKCiAgICAgICAgCiAgICAgICAgICAgIHZhciBodG1sXzAyNTIxNjVmMjQ0OTRlYTQ4OGQ5YzQ5MTk5NzU1OGY5ID0gJChgPGRpdiBpZD0iaHRtbF8wMjUyMTY1ZjI0NDk0ZWE0ODhkOWM0OTE5OTc1NThmOSIgc3R5bGU9IndpZHRoOiAxMDAuMCU7IGhlaWdodDogMTAwLjAlOyI+VG9yb250byBEb21pbmlvbiBDZW50cmUsIERlc2lnbiBFeGNoYW5nZSwgRG93bnRvd24gVG9yb250bzwvZGl2PmApWzBdOwogICAgICAgICAgICBwb3B1cF82ZTNjY2I2ZDdhYTc0MGJiYTgyZWZhZDQ5ZWZhNzViZS5zZXRDb250ZW50KGh0bWxfMDI1MjE2NWYyNDQ5NGVhNDg4ZDljNDkxOTk3NTU4ZjkpOwogICAgICAgIAoKICAgICAgICBjaXJjbGVfbWFya2VyXzJlZmMzYTlmZTNlOTQ5NWU4NjVmZjQwNGIyMTE4MDE4LmJpbmRQb3B1cChwb3B1cF82ZTNjY2I2ZDdhYTc0MGJiYTgyZWZhZDQ5ZWZhNzViZSkKICAgICAgICA7CgogICAgICAgIAogICAgCiAgICAKICAgICAgICAgICAgdmFyIGNpcmNsZV9tYXJrZXJfMzJkOGM4M2M5ZjhjNGVmNzkzY2RlNTMwODNkZTUxMTYgPSBMLmNpcmNsZU1hcmtlcigKICAgICAgICAgICAgICAgIFs0My42MzY4NDcyLCAtNzkuNDI4MTkxNDAwMDAwMDJdLAogICAgICAgICAgICAgICAgeyJidWJibGluZ01vdXNlRXZlbnRzIjogdHJ1ZSwgImNvbG9yIjogImJsdWUiLCAiZGFzaEFycmF5IjogbnVsbCwgImRhc2hPZmZzZXQiOiBudWxsLCAiZmlsbCI6IHRydWUsICJmaWxsQ29sb3IiOiAiIzMxODZjYyIsICJmaWxsT3BhY2l0eSI6IDAuNywgImZpbGxSdWxlIjogImV2ZW5vZGQiLCAibGluZUNhcCI6ICJyb3VuZCIsICJsaW5lSm9pbiI6ICJyb3VuZCIsICJvcGFjaXR5IjogMS4wLCAicmFkaXVzIjogNSwgInN0cm9rZSI6IHRydWUsICJ3ZWlnaHQiOiAzfQogICAgICAgICAgICApLmFkZFRvKG1hcF80ZDM0Y2JhOTNjYmM0NmQyYTE2NTRhNWIzZWVmM2QzNik7CiAgICAgICAgCiAgICAKICAgICAgICB2YXIgcG9wdXBfZDQ2YmM4ZmI0MmQ1NGE5ZmI1NmFlZjVmYmVjNGU4YTcgPSBMLnBvcHVwKHsibWF4V2lkdGgiOiAiMTAwJSJ9KTsKCiAgICAgICAgCiAgICAgICAgICAgIHZhciBodG1sXzY5ZmM3ODRkYWUxZDQwOWI4NDViNzNhNzY4NWIyMzNkID0gJChgPGRpdiBpZD0iaHRtbF82OWZjNzg0ZGFlMWQ0MDliODQ1YjczYTc2ODViMjMzZCIgc3R5bGU9IndpZHRoOiAxMDAuMCU7IGhlaWdodDogMTAwLjAlOyI+QnJvY2t0b24sIFBhcmtkYWxlIFZpbGxhZ2UsIEV4aGliaXRpb24gUGxhY2UsIFdlc3QgVG9yb250bzwvZGl2PmApWzBdOwogICAgICAgICAgICBwb3B1cF9kNDZiYzhmYjQyZDU0YTlmYjU2YWVmNWZiZWM0ZThhNy5zZXRDb250ZW50KGh0bWxfNjlmYzc4NGRhZTFkNDA5Yjg0NWI3M2E3Njg1YjIzM2QpOwogICAgICAgIAoKICAgICAgICBjaXJjbGVfbWFya2VyXzMyZDhjODNjOWY4YzRlZjc5M2NkZTUzMDgzZGU1MTE2LmJpbmRQb3B1cChwb3B1cF9kNDZiYzhmYjQyZDU0YTlmYjU2YWVmNWZiZWM0ZThhNykKICAgICAgICA7CgogICAgICAgIAogICAgCiAgICAKICAgICAgICAgICAgdmFyIGNpcmNsZV9tYXJrZXJfOWVmMjIyZGRhNWQ1NDMyODk5NzVkNWM2MDE5ODA2MzAgPSBMLmNpcmNsZU1hcmtlcigKICAgICAgICAgICAgICAgIFs0My42Njg5OTg1LCAtNzkuMzE1NTcxNTk5OTk5OThdLAogICAgICAgICAgICAgICAgeyJidWJibGluZ01vdXNlRXZlbnRzIjogdHJ1ZSwgImNvbG9yIjogImJsdWUiLCAiZGFzaEFycmF5IjogbnVsbCwgImRhc2hPZmZzZXQiOiBudWxsLCAiZmlsbCI6IHRydWUsICJmaWxsQ29sb3IiOiAiIzMxODZjYyIsICJmaWxsT3BhY2l0eSI6IDAuNywgImZpbGxSdWxlIjogImV2ZW5vZGQiLCAibGluZUNhcCI6ICJyb3VuZCIsICJsaW5lSm9pbiI6ICJyb3VuZCIsICJvcGFjaXR5IjogMS4wLCAicmFkaXVzIjogNSwgInN0cm9rZSI6IHRydWUsICJ3ZWlnaHQiOiAzfQogICAgICAgICAgICApLmFkZFRvKG1hcF80ZDM0Y2JhOTNjYmM0NmQyYTE2NTRhNWIzZWVmM2QzNik7CiAgICAgICAgCiAgICAKICAgICAgICB2YXIgcG9wdXBfYTBiMGJmOTBkN2EyNDA3OGI3Nzg4NjQ3MGMxY2ZjMTggPSBMLnBvcHVwKHsibWF4V2lkdGgiOiAiMTAwJSJ9KTsKCiAgICAgICAgCiAgICAgICAgICAgIHZhciBodG1sX2NhMDY0OTIzOTIyMDRkZDc4ODZiZjY0NzM4ODZjZjc0ID0gJChgPGRpdiBpZD0iaHRtbF9jYTA2NDkyMzkyMjA0ZGQ3ODg2YmY2NDczODg2Y2Y3NCIgc3R5bGU9IndpZHRoOiAxMDAuMCU7IGhlaWdodDogMTAwLjAlOyI+SW5kaWEgQmF6YWFyLCBUaGUgQmVhY2hlcyBXZXN0LCBFYXN0IFRvcm9udG88L2Rpdj5gKVswXTsKICAgICAgICAgICAgcG9wdXBfYTBiMGJmOTBkN2EyNDA3OGI3Nzg4NjQ3MGMxY2ZjMTguc2V0Q29udGVudChodG1sX2NhMDY0OTIzOTIyMDRkZDc4ODZiZjY0NzM4ODZjZjc0KTsKICAgICAgICAKCiAgICAgICAgY2lyY2xlX21hcmtlcl85ZWYyMjJkZGE1ZDU0MzI4OTk3NWQ1YzYwMTk4MDYzMC5iaW5kUG9wdXAocG9wdXBfYTBiMGJmOTBkN2EyNDA3OGI3Nzg4NjQ3MGMxY2ZjMTgpCiAgICAgICAgOwoKICAgICAgICAKICAgIAogICAgCiAgICAgICAgICAgIHZhciBjaXJjbGVfbWFya2VyXzA3NWEwN2JhYTEyYjQwMDdiODYzZTQ2Yzg1MDAxM2YwID0gTC5jaXJjbGVNYXJrZXIoCiAgICAgICAgICAgICAgICBbNDMuNjQ4MTk4NSwgLTc5LjM3OTgxNjkwMDAwMDAxXSwKICAgICAgICAgICAgICAgIHsiYnViYmxpbmdNb3VzZUV2ZW50cyI6IHRydWUsICJjb2xvciI6ICJibHVlIiwgImRhc2hBcnJheSI6IG51bGwsICJkYXNoT2Zmc2V0IjogbnVsbCwgImZpbGwiOiB0cnVlLCAiZmlsbENvbG9yIjogIiMzMTg2Y2MiLCAiZmlsbE9wYWNpdHkiOiAwLjcsICJmaWxsUnVsZSI6ICJldmVub2RkIiwgImxpbmVDYXAiOiAicm91bmQiLCAibGluZUpvaW4iOiAicm91bmQiLCAib3BhY2l0eSI6IDEuMCwgInJhZGl1cyI6IDUsICJzdHJva2UiOiB0cnVlLCAid2VpZ2h0IjogM30KICAgICAgICAgICAgKS5hZGRUbyhtYXBfNGQzNGNiYTkzY2JjNDZkMmExNjU0YTViM2VlZjNkMzYpOwogICAgICAgIAogICAgCiAgICAgICAgdmFyIHBvcHVwXzNhZmZmNWFkODIzNjQ2MzlhM2U2M2FhYWVhNTk5OGQ4ID0gTC5wb3B1cCh7Im1heFdpZHRoIjogIjEwMCUifSk7CgogICAgICAgIAogICAgICAgICAgICB2YXIgaHRtbF85OGVmZWI5OGQ0ZWM0OTlkODVkNjBhOTk5N2JjMmVkNiA9ICQoYDxkaXYgaWQ9Imh0bWxfOThlZmViOThkNGVjNDk5ZDg1ZDYwYTk5OTdiYzJlZDYiIHN0eWxlPSJ3aWR0aDogMTAwLjAlOyBoZWlnaHQ6IDEwMC4wJTsiPkNvbW1lcmNlIENvdXJ0LCBWaWN0b3JpYSBIb3RlbCwgRG93bnRvd24gVG9yb250bzwvZGl2PmApWzBdOwogICAgICAgICAgICBwb3B1cF8zYWZmZjVhZDgyMzY0NjM5YTNlNjNhYWFlYTU5OThkOC5zZXRDb250ZW50KGh0bWxfOThlZmViOThkNGVjNDk5ZDg1ZDYwYTk5OTdiYzJlZDYpOwogICAgICAgIAoKICAgICAgICBjaXJjbGVfbWFya2VyXzA3NWEwN2JhYTEyYjQwMDdiODYzZTQ2Yzg1MDAxM2YwLmJpbmRQb3B1cChwb3B1cF8zYWZmZjVhZDgyMzY0NjM5YTNlNjNhYWFlYTU5OThkOCkKICAgICAgICA7CgogICAgICAgIAogICAgCiAgICAKICAgICAgICAgICAgdmFyIGNpcmNsZV9tYXJrZXJfNjc2NTBhYTUzZGUyNDg0YjgzNDRiOTBkMzY0YmNlNDIgPSBMLmNpcmNsZU1hcmtlcigKICAgICAgICAgICAgICAgIFs0My42NTk1MjU1LCAtNzkuMzQwOTIzXSwKICAgICAgICAgICAgICAgIHsiYnViYmxpbmdNb3VzZUV2ZW50cyI6IHRydWUsICJjb2xvciI6ICJibHVlIiwgImRhc2hBcnJheSI6IG51bGwsICJkYXNoT2Zmc2V0IjogbnVsbCwgImZpbGwiOiB0cnVlLCAiZmlsbENvbG9yIjogIiMzMTg2Y2MiLCAiZmlsbE9wYWNpdHkiOiAwLjcsICJmaWxsUnVsZSI6ICJldmVub2RkIiwgImxpbmVDYXAiOiAicm91bmQiLCAibGluZUpvaW4iOiAicm91bmQiLCAib3BhY2l0eSI6IDEuMCwgInJhZGl1cyI6IDUsICJzdHJva2UiOiB0cnVlLCAid2VpZ2h0IjogM30KICAgICAgICAgICAgKS5hZGRUbyhtYXBfNGQzNGNiYTkzY2JjNDZkMmExNjU0YTViM2VlZjNkMzYpOwogICAgICAgIAogICAgCiAgICAgICAgdmFyIHBvcHVwX2EyMzI4Yzk2YjI0OTQyYTBhYzhhMWVhMTdlMjRjZjJhID0gTC5wb3B1cCh7Im1heFdpZHRoIjogIjEwMCUifSk7CgogICAgICAgIAogICAgICAgICAgICB2YXIgaHRtbF8zMmJiY2ZiNzI2MGQ0N2JlYjI5NDM5NzY2NzIyYThlYSA9ICQoYDxkaXYgaWQ9Imh0bWxfMzJiYmNmYjcyNjBkNDdiZWIyOTQzOTc2NjcyMmE4ZWEiIHN0eWxlPSJ3aWR0aDogMTAwLjAlOyBoZWlnaHQ6IDEwMC4wJTsiPlN0dWRpbyBEaXN0cmljdCwgRWFzdCBUb3JvbnRvPC9kaXY+YClbMF07CiAgICAgICAgICAgIHBvcHVwX2EyMzI4Yzk2YjI0OTQyYTBhYzhhMWVhMTdlMjRjZjJhLnNldENvbnRlbnQoaHRtbF8zMmJiY2ZiNzI2MGQ0N2JlYjI5NDM5NzY2NzIyYThlYSk7CiAgICAgICAgCgogICAgICAgIGNpcmNsZV9tYXJrZXJfNjc2NTBhYTUzZGUyNDg0YjgzNDRiOTBkMzY0YmNlNDIuYmluZFBvcHVwKHBvcHVwX2EyMzI4Yzk2YjI0OTQyYTBhYzhhMWVhMTdlMjRjZjJhKQogICAgICAgIDsKCiAgICAgICAgCiAgICAKICAgIAogICAgICAgICAgICB2YXIgY2lyY2xlX21hcmtlcl9iYzE0ZDEwYmIyMGM0ZTdkYjYyZWY5YjlkYzI5M2EyNSA9IEwuY2lyY2xlTWFya2VyKAogICAgICAgICAgICAgICAgWzQzLjcyODAyMDUsIC03OS4zODg3OTAxXSwKICAgICAgICAgICAgICAgIHsiYnViYmxpbmdNb3VzZUV2ZW50cyI6IHRydWUsICJjb2xvciI6ICJibHVlIiwgImRhc2hBcnJheSI6IG51bGwsICJkYXNoT2Zmc2V0IjogbnVsbCwgImZpbGwiOiB0cnVlLCAiZmlsbENvbG9yIjogIiMzMTg2Y2MiLCAiZmlsbE9wYWNpdHkiOiAwLjcsICJmaWxsUnVsZSI6ICJldmVub2RkIiwgImxpbmVDYXAiOiAicm91bmQiLCAibGluZUpvaW4iOiAicm91bmQiLCAib3BhY2l0eSI6IDEuMCwgInJhZGl1cyI6IDUsICJzdHJva2UiOiB0cnVlLCAid2VpZ2h0IjogM30KICAgICAgICAgICAgKS5hZGRUbyhtYXBfNGQzNGNiYTkzY2JjNDZkMmExNjU0YTViM2VlZjNkMzYpOwogICAgICAgIAogICAgCiAgICAgICAgdmFyIHBvcHVwXzNhODE5NTFlYjMwYTQ5ZDdiMjExZDAxMzRlMGNiNTc0ID0gTC5wb3B1cCh7Im1heFdpZHRoIjogIjEwMCUifSk7CgogICAgICAgIAogICAgICAgICAgICB2YXIgaHRtbF9hMjU4M2JjM2U4NGE0ZGYxOGVjYjQ3YzY3ZjAwMWMxOSA9ICQoYDxkaXYgaWQ9Imh0bWxfYTI1ODNiYzNlODRhNGRmMThlY2I0N2M2N2YwMDFjMTkiIHN0eWxlPSJ3aWR0aDogMTAwLjAlOyBoZWlnaHQ6IDEwMC4wJTsiPkxhd3JlbmNlIFBhcmssIENlbnRyYWwgVG9yb250bzwvZGl2PmApWzBdOwogICAgICAgICAgICBwb3B1cF8zYTgxOTUxZWIzMGE0OWQ3YjIxMWQwMTM0ZTBjYjU3NC5zZXRDb250ZW50KGh0bWxfYTI1ODNiYzNlODRhNGRmMThlY2I0N2M2N2YwMDFjMTkpOwogICAgICAgIAoKICAgICAgICBjaXJjbGVfbWFya2VyX2JjMTRkMTBiYjIwYzRlN2RiNjJlZjliOWRjMjkzYTI1LmJpbmRQb3B1cChwb3B1cF8zYTgxOTUxZWIzMGE0OWQ3YjIxMWQwMTM0ZTBjYjU3NCkKICAgICAgICA7CgogICAgICAgIAogICAgCiAgICAKICAgICAgICAgICAgdmFyIGNpcmNsZV9tYXJrZXJfOGRkN2IxYWEyMTMyNGNiN2FlMzJjZGMyNjk4MGNhNWIgPSBMLmNpcmNsZU1hcmtlcigKICAgICAgICAgICAgICAgIFs0My43MTE2OTQ4LCAtNzkuNDE2OTM1NTk5OTk5OTldLAogICAgICAgICAgICAgICAgeyJidWJibGluZ01vdXNlRXZlbnRzIjogdHJ1ZSwgImNvbG9yIjogImJsdWUiLCAiZGFzaEFycmF5IjogbnVsbCwgImRhc2hPZmZzZXQiOiBudWxsLCAiZmlsbCI6IHRydWUsICJmaWxsQ29sb3IiOiAiIzMxODZjYyIsICJmaWxsT3BhY2l0eSI6IDAuNywgImZpbGxSdWxlIjogImV2ZW5vZGQiLCAibGluZUNhcCI6ICJyb3VuZCIsICJsaW5lSm9pbiI6ICJyb3VuZCIsICJvcGFjaXR5IjogMS4wLCAicmFkaXVzIjogNSwgInN0cm9rZSI6IHRydWUsICJ3ZWlnaHQiOiAzfQogICAgICAgICAgICApLmFkZFRvKG1hcF80ZDM0Y2JhOTNjYmM0NmQyYTE2NTRhNWIzZWVmM2QzNik7CiAgICAgICAgCiAgICAKICAgICAgICB2YXIgcG9wdXBfOWVjYWI1MzlmYzEzNDhkYThlZDhmY2VlYTA2OGU2MGYgPSBMLnBvcHVwKHsibWF4V2lkdGgiOiAiMTAwJSJ9KTsKCiAgICAgICAgCiAgICAgICAgICAgIHZhciBodG1sXzE1ZWM1NGE2MDlhZjRhNjg5NWY0NTliMjY2ZGE4YWM0ID0gJChgPGRpdiBpZD0iaHRtbF8xNWVjNTRhNjA5YWY0YTY4OTVmNDU5YjI2NmRhOGFjNCIgc3R5bGU9IndpZHRoOiAxMDAuMCU7IGhlaWdodDogMTAwLjAlOyI+Um9zZWxhd24sIENlbnRyYWwgVG9yb250bzwvZGl2PmApWzBdOwogICAgICAgICAgICBwb3B1cF85ZWNhYjUzOWZjMTM0OGRhOGVkOGZjZWVhMDY4ZTYwZi5zZXRDb250ZW50KGh0bWxfMTVlYzU0YTYwOWFmNGE2ODk1ZjQ1OWIyNjZkYThhYzQpOwogICAgICAgIAoKICAgICAgICBjaXJjbGVfbWFya2VyXzhkZDdiMWFhMjEzMjRjYjdhZTMyY2RjMjY5ODBjYTViLmJpbmRQb3B1cChwb3B1cF85ZWNhYjUzOWZjMTM0OGRhOGVkOGZjZWVhMDY4ZTYwZikKICAgICAgICA7CgogICAgICAgIAogICAgCiAgICAKICAgICAgICAgICAgdmFyIGNpcmNsZV9tYXJrZXJfMmJjOGM3MGVjMjA3NDZkNTg1MDYxZmU2ZDQ5Y2FmOTAgPSBMLmNpcmNsZU1hcmtlcigKICAgICAgICAgICAgICAgIFs0My43MTI3NTExLCAtNzkuMzkwMTk3NV0sCiAgICAgICAgICAgICAgICB7ImJ1YmJsaW5nTW91c2VFdmVudHMiOiB0cnVlLCAiY29sb3IiOiAiYmx1ZSIsICJkYXNoQXJyYXkiOiBudWxsLCAiZGFzaE9mZnNldCI6IG51bGwsICJmaWxsIjogdHJ1ZSwgImZpbGxDb2xvciI6ICIjMzE4NmNjIiwgImZpbGxPcGFjaXR5IjogMC43LCAiZmlsbFJ1bGUiOiAiZXZlbm9kZCIsICJsaW5lQ2FwIjogInJvdW5kIiwgImxpbmVKb2luIjogInJvdW5kIiwgIm9wYWNpdHkiOiAxLjAsICJyYWRpdXMiOiA1LCAic3Ryb2tlIjogdHJ1ZSwgIndlaWdodCI6IDN9CiAgICAgICAgICAgICkuYWRkVG8obWFwXzRkMzRjYmE5M2NiYzQ2ZDJhMTY1NGE1YjNlZWYzZDM2KTsKICAgICAgICAKICAgIAogICAgICAgIHZhciBwb3B1cF85YmJmMDNjYjY4ZDA0NmNiYjk3YTQ4YzhmNmMxOWYwOSA9IEwucG9wdXAoeyJtYXhXaWR0aCI6ICIxMDAlIn0pOwoKICAgICAgICAKICAgICAgICAgICAgdmFyIGh0bWxfYWY2MzI4YmE5MjdkNGI2NzgzNWI3M2VhMmQxNDBmMjMgPSAkKGA8ZGl2IGlkPSJodG1sX2FmNjMyOGJhOTI3ZDRiNjc4MzViNzNlYTJkMTQwZjIzIiBzdHlsZT0id2lkdGg6IDEwMC4wJTsgaGVpZ2h0OiAxMDAuMCU7Ij5EYXZpc3ZpbGxlIE5vcnRoLCBDZW50cmFsIFRvcm9udG88L2Rpdj5gKVswXTsKICAgICAgICAgICAgcG9wdXBfOWJiZjAzY2I2OGQwNDZjYmI5N2E0OGM4ZjZjMTlmMDkuc2V0Q29udGVudChodG1sX2FmNjMyOGJhOTI3ZDRiNjc4MzViNzNlYTJkMTQwZjIzKTsKICAgICAgICAKCiAgICAgICAgY2lyY2xlX21hcmtlcl8yYmM4YzcwZWMyMDc0NmQ1ODUwNjFmZTZkNDljYWY5MC5iaW5kUG9wdXAocG9wdXBfOWJiZjAzY2I2OGQwNDZjYmI5N2E0OGM4ZjZjMTlmMDkpCiAgICAgICAgOwoKICAgICAgICAKICAgIAogICAgCiAgICAgICAgICAgIHZhciBjaXJjbGVfbWFya2VyXzBhN2VmZmI4MTU5YjQ4ZWM4YmRmMmZjMDUyN2ZhOTc4ID0gTC5jaXJjbGVNYXJrZXIoCiAgICAgICAgICAgICAgICBbNDMuNjk2OTQ3NiwgLTc5LjQxMTMwNzIwMDAwMDAxXSwKICAgICAgICAgICAgICAgIHsiYnViYmxpbmdNb3VzZUV2ZW50cyI6IHRydWUsICJjb2xvciI6ICJibHVlIiwgImRhc2hBcnJheSI6IG51bGwsICJkYXNoT2Zmc2V0IjogbnVsbCwgImZpbGwiOiB0cnVlLCAiZmlsbENvbG9yIjogIiMzMTg2Y2MiLCAiZmlsbE9wYWNpdHkiOiAwLjcsICJmaWxsUnVsZSI6ICJldmVub2RkIiwgImxpbmVDYXAiOiAicm91bmQiLCAibGluZUpvaW4iOiAicm91bmQiLCAib3BhY2l0eSI6IDEuMCwgInJhZGl1cyI6IDUsICJzdHJva2UiOiB0cnVlLCAid2VpZ2h0IjogM30KICAgICAgICAgICAgKS5hZGRUbyhtYXBfNGQzNGNiYTkzY2JjNDZkMmExNjU0YTViM2VlZjNkMzYpOwogICAgICAgIAogICAgCiAgICAgICAgdmFyIHBvcHVwXzA1ZDFmODIwZTI5ZjRmMDU5YjFhY2U4ZGJlYWUxMWRhID0gTC5wb3B1cCh7Im1heFdpZHRoIjogIjEwMCUifSk7CgogICAgICAgIAogICAgICAgICAgICB2YXIgaHRtbF8zMjUyYTI2M2YyNmU0NjEzOGEzZmQzMmM3NjcwYWQzMyA9ICQoYDxkaXYgaWQ9Imh0bWxfMzI1MmEyNjNmMjZlNDYxMzhhM2ZkMzJjNzY3MGFkMzMiIHN0eWxlPSJ3aWR0aDogMTAwLjAlOyBoZWlnaHQ6IDEwMC4wJTsiPkZvcmVzdCBIaWxsIE5vcnRoICZhbXA7IFdlc3QsIEZvcmVzdCBIaWxsIFJvYWQgUGFyaywgQ2VudHJhbCBUb3JvbnRvPC9kaXY+YClbMF07CiAgICAgICAgICAgIHBvcHVwXzA1ZDFmODIwZTI5ZjRmMDU5YjFhY2U4ZGJlYWUxMWRhLnNldENvbnRlbnQoaHRtbF8zMjUyYTI2M2YyNmU0NjEzOGEzZmQzMmM3NjcwYWQzMyk7CiAgICAgICAgCgogICAgICAgIGNpcmNsZV9tYXJrZXJfMGE3ZWZmYjgxNTliNDhlYzhiZGYyZmMwNTI3ZmE5NzguYmluZFBvcHVwKHBvcHVwXzA1ZDFmODIwZTI5ZjRmMDU5YjFhY2U4ZGJlYWUxMWRhKQogICAgICAgIDsKCiAgICAgICAgCiAgICAKICAgIAogICAgICAgICAgICB2YXIgY2lyY2xlX21hcmtlcl84NWRjZjQ5YTVkYzQ0NGJhYmI0YTUxYmQ4ODBjOTZkZSA9IEwuY2lyY2xlTWFya2VyKAogICAgICAgICAgICAgICAgWzQzLjY2MTYwODMsIC03OS40NjQ3NjMyOTk5OTk5OV0sCiAgICAgICAgICAgICAgICB7ImJ1YmJsaW5nTW91c2VFdmVudHMiOiB0cnVlLCAiY29sb3IiOiAiYmx1ZSIsICJkYXNoQXJyYXkiOiBudWxsLCAiZGFzaE9mZnNldCI6IG51bGwsICJmaWxsIjogdHJ1ZSwgImZpbGxDb2xvciI6ICIjMzE4NmNjIiwgImZpbGxPcGFjaXR5IjogMC43LCAiZmlsbFJ1bGUiOiAiZXZlbm9kZCIsICJsaW5lQ2FwIjogInJvdW5kIiwgImxpbmVKb2luIjogInJvdW5kIiwgIm9wYWNpdHkiOiAxLjAsICJyYWRpdXMiOiA1LCAic3Ryb2tlIjogdHJ1ZSwgIndlaWdodCI6IDN9CiAgICAgICAgICAgICkuYWRkVG8obWFwXzRkMzRjYmE5M2NiYzQ2ZDJhMTY1NGE1YjNlZWYzZDM2KTsKICAgICAgICAKICAgIAogICAgICAgIHZhciBwb3B1cF9lOTYyZjE5ODI3NWU0MDM3ODUwMWEwN2NiNzM5MWMxMiA9IEwucG9wdXAoeyJtYXhXaWR0aCI6ICIxMDAlIn0pOwoKICAgICAgICAKICAgICAgICAgICAgdmFyIGh0bWxfNDAwYzE2OTkxNDNlNGZjYmFkZWNjNjQwMzdkMTEyZTcgPSAkKGA8ZGl2IGlkPSJodG1sXzQwMGMxNjk5MTQzZTRmY2JhZGVjYzY0MDM3ZDExMmU3IiBzdHlsZT0id2lkdGg6IDEwMC4wJTsgaGVpZ2h0OiAxMDAuMCU7Ij5IaWdoIFBhcmssIFRoZSBKdW5jdGlvbiBTb3V0aCwgV2VzdCBUb3JvbnRvPC9kaXY+YClbMF07CiAgICAgICAgICAgIHBvcHVwX2U5NjJmMTk4Mjc1ZTQwMzc4NTAxYTA3Y2I3MzkxYzEyLnNldENvbnRlbnQoaHRtbF80MDBjMTY5OTE0M2U0ZmNiYWRlY2M2NDAzN2QxMTJlNyk7CiAgICAgICAgCgogICAgICAgIGNpcmNsZV9tYXJrZXJfODVkY2Y0OWE1ZGM0NDRiYWJiNGE1MWJkODgwYzk2ZGUuYmluZFBvcHVwKHBvcHVwX2U5NjJmMTk4Mjc1ZTQwMzc4NTAxYTA3Y2I3MzkxYzEyKQogICAgICAgIDsKCiAgICAgICAgCiAgICAKICAgIAogICAgICAgICAgICB2YXIgY2lyY2xlX21hcmtlcl81ZDdiMjA1MTlmODY0MzQ1OTA4ZTc1M2M5ZDhjNjUxMyA9IEwuY2lyY2xlTWFya2VyKAogICAgICAgICAgICAgICAgWzQzLjcxNTM4MzQsIC03OS40MDU2Nzg0MDAwMDAwMV0sCiAgICAgICAgICAgICAgICB7ImJ1YmJsaW5nTW91c2VFdmVudHMiOiB0cnVlLCAiY29sb3IiOiAiYmx1ZSIsICJkYXNoQXJyYXkiOiBudWxsLCAiZGFzaE9mZnNldCI6IG51bGwsICJmaWxsIjogdHJ1ZSwgImZpbGxDb2xvciI6ICIjMzE4NmNjIiwgImZpbGxPcGFjaXR5IjogMC43LCAiZmlsbFJ1bGUiOiAiZXZlbm9kZCIsICJsaW5lQ2FwIjogInJvdW5kIiwgImxpbmVKb2luIjogInJvdW5kIiwgIm9wYWNpdHkiOiAxLjAsICJyYWRpdXMiOiA1LCAic3Ryb2tlIjogdHJ1ZSwgIndlaWdodCI6IDN9CiAgICAgICAgICAgICkuYWRkVG8obWFwXzRkMzRjYmE5M2NiYzQ2ZDJhMTY1NGE1YjNlZWYzZDM2KTsKICAgICAgICAKICAgIAogICAgICAgIHZhciBwb3B1cF9hMTlmMjc2YzQwYmY0NTIxYjQ2NzJiYzcwNDBjZDg5MyA9IEwucG9wdXAoeyJtYXhXaWR0aCI6ICIxMDAlIn0pOwoKICAgICAgICAKICAgICAgICAgICAgdmFyIGh0bWxfMTQzZmZiYjM0YmUyNGJiMWJmYWNjNjE3NDBhOWNmNGEgPSAkKGA8ZGl2IGlkPSJodG1sXzE0M2ZmYmIzNGJlMjRiYjFiZmFjYzYxNzQwYTljZjRhIiBzdHlsZT0id2lkdGg6IDEwMC4wJTsgaGVpZ2h0OiAxMDAuMCU7Ij5Ob3J0aCBUb3JvbnRvIFdlc3QsIExhd3JlbmNlIFBhcmssIENlbnRyYWwgVG9yb250bzwvZGl2PmApWzBdOwogICAgICAgICAgICBwb3B1cF9hMTlmMjc2YzQwYmY0NTIxYjQ2NzJiYzcwNDBjZDg5My5zZXRDb250ZW50KGh0bWxfMTQzZmZiYjM0YmUyNGJiMWJmYWNjNjE3NDBhOWNmNGEpOwogICAgICAgIAoKICAgICAgICBjaXJjbGVfbWFya2VyXzVkN2IyMDUxOWY4NjQzNDU5MDhlNzUzYzlkOGM2NTEzLmJpbmRQb3B1cChwb3B1cF9hMTlmMjc2YzQwYmY0NTIxYjQ2NzJiYzcwNDBjZDg5MykKICAgICAgICA7CgogICAgICAgIAogICAgCiAgICAKICAgICAgICAgICAgdmFyIGNpcmNsZV9tYXJrZXJfODViNWVhNGRhYTRmNDM1NmEwNTUwYTRmMDU2YWMwNWUgPSBMLmNpcmNsZU1hcmtlcigKICAgICAgICAgICAgICAgIFs0My42NzI3MDk3LCAtNzkuNDA1Njc4NDAwMDAwMDFdLAogICAgICAgICAgICAgICAgeyJidWJibGluZ01vdXNlRXZlbnRzIjogdHJ1ZSwgImNvbG9yIjogImJsdWUiLCAiZGFzaEFycmF5IjogbnVsbCwgImRhc2hPZmZzZXQiOiBudWxsLCAiZmlsbCI6IHRydWUsICJmaWxsQ29sb3IiOiAiIzMxODZjYyIsICJmaWxsT3BhY2l0eSI6IDAuNywgImZpbGxSdWxlIjogImV2ZW5vZGQiLCAibGluZUNhcCI6ICJyb3VuZCIsICJsaW5lSm9pbiI6ICJyb3VuZCIsICJvcGFjaXR5IjogMS4wLCAicmFkaXVzIjogNSwgInN0cm9rZSI6IHRydWUsICJ3ZWlnaHQiOiAzfQogICAgICAgICAgICApLmFkZFRvKG1hcF80ZDM0Y2JhOTNjYmM0NmQyYTE2NTRhNWIzZWVmM2QzNik7CiAgICAgICAgCiAgICAKICAgICAgICB2YXIgcG9wdXBfN2U4NTUyYWE2OGQwNDBkZjgxYTRhNTQ3YWZlZTU4ZDggPSBMLnBvcHVwKHsibWF4V2lkdGgiOiAiMTAwJSJ9KTsKCiAgICAgICAgCiAgICAgICAgICAgIHZhciBodG1sXzI3YzhlMTI1YzEzMzQ2MDk5MWVmNjI4YWZkYTdhMWNkID0gJChgPGRpdiBpZD0iaHRtbF8yN2M4ZTEyNWMxMzM0NjA5OTFlZjYyOGFmZGE3YTFjZCIgc3R5bGU9IndpZHRoOiAxMDAuMCU7IGhlaWdodDogMTAwLjAlOyI+VGhlIEFubmV4LCBOb3J0aCBNaWR0b3duLCBZb3JrdmlsbGUsIENlbnRyYWwgVG9yb250bzwvZGl2PmApWzBdOwogICAgICAgICAgICBwb3B1cF83ZTg1NTJhYTY4ZDA0MGRmODFhNGE1NDdhZmVlNThkOC5zZXRDb250ZW50KGh0bWxfMjdjOGUxMjVjMTMzNDYwOTkxZWY2MjhhZmRhN2ExY2QpOwogICAgICAgIAoKICAgICAgICBjaXJjbGVfbWFya2VyXzg1YjVlYTRkYWE0ZjQzNTZhMDU1MGE0ZjA1NmFjMDVlLmJpbmRQb3B1cChwb3B1cF83ZTg1NTJhYTY4ZDA0MGRmODFhNGE1NDdhZmVlNThkOCkKICAgICAgICA7CgogICAgICAgIAogICAgCiAgICAKICAgICAgICAgICAgdmFyIGNpcmNsZV9tYXJrZXJfZjU5YzhlOTliNDM2NDE4MmJiYTliM2QwNWU4NzdmNzcgPSBMLmNpcmNsZU1hcmtlcigKICAgICAgICAgICAgICAgIFs0My42NDg5NTk3LCAtNzkuNDU2MzI1XSwKICAgICAgICAgICAgICAgIHsiYnViYmxpbmdNb3VzZUV2ZW50cyI6IHRydWUsICJjb2xvciI6ICJibHVlIiwgImRhc2hBcnJheSI6IG51bGwsICJkYXNoT2Zmc2V0IjogbnVsbCwgImZpbGwiOiB0cnVlLCAiZmlsbENvbG9yIjogIiMzMTg2Y2MiLCAiZmlsbE9wYWNpdHkiOiAwLjcsICJmaWxsUnVsZSI6ICJldmVub2RkIiwgImxpbmVDYXAiOiAicm91bmQiLCAibGluZUpvaW4iOiAicm91bmQiLCAib3BhY2l0eSI6IDEuMCwgInJhZGl1cyI6IDUsICJzdHJva2UiOiB0cnVlLCAid2VpZ2h0IjogM30KICAgICAgICAgICAgKS5hZGRUbyhtYXBfNGQzNGNiYTkzY2JjNDZkMmExNjU0YTViM2VlZjNkMzYpOwogICAgICAgIAogICAgCiAgICAgICAgdmFyIHBvcHVwXzEyMTA3NmQyMmViNTRlNWY4ODNiZWQ3NDNjOTJiNGYwID0gTC5wb3B1cCh7Im1heFdpZHRoIjogIjEwMCUifSk7CgogICAgICAgIAogICAgICAgICAgICB2YXIgaHRtbF81ZDUwZTM1MzAzZDU0NDRlODRjNDMxNjRkMTgyYTFlYSA9ICQoYDxkaXYgaWQ9Imh0bWxfNWQ1MGUzNTMwM2Q1NDQ0ZTg0YzQzMTY0ZDE4MmExZWEiIHN0eWxlPSJ3aWR0aDogMTAwLjAlOyBoZWlnaHQ6IDEwMC4wJTsiPlBhcmtkYWxlLCBSb25jZXN2YWxsZXMsIFdlc3QgVG9yb250bzwvZGl2PmApWzBdOwogICAgICAgICAgICBwb3B1cF8xMjEwNzZkMjJlYjU0ZTVmODgzYmVkNzQzYzkyYjRmMC5zZXRDb250ZW50KGh0bWxfNWQ1MGUzNTMwM2Q1NDQ0ZTg0YzQzMTY0ZDE4MmExZWEpOwogICAgICAgIAoKICAgICAgICBjaXJjbGVfbWFya2VyX2Y1OWM4ZTk5YjQzNjQxODJiYmE5YjNkMDVlODc3Zjc3LmJpbmRQb3B1cChwb3B1cF8xMjEwNzZkMjJlYjU0ZTVmODgzYmVkNzQzYzkyYjRmMCkKICAgICAgICA7CgogICAgICAgIAogICAgCiAgICAKICAgICAgICAgICAgdmFyIGNpcmNsZV9tYXJrZXJfY2VjZGY3ZjJiNzA0NDJjMTlkOGVlMmIwOWFiMGZjZTYgPSBMLmNpcmNsZU1hcmtlcigKICAgICAgICAgICAgICAgIFs0My43MDQzMjQ0LCAtNzkuMzg4NzkwMV0sCiAgICAgICAgICAgICAgICB7ImJ1YmJsaW5nTW91c2VFdmVudHMiOiB0cnVlLCAiY29sb3IiOiAiYmx1ZSIsICJkYXNoQXJyYXkiOiBudWxsLCAiZGFzaE9mZnNldCI6IG51bGwsICJmaWxsIjogdHJ1ZSwgImZpbGxDb2xvciI6ICIjMzE4NmNjIiwgImZpbGxPcGFjaXR5IjogMC43LCAiZmlsbFJ1bGUiOiAiZXZlbm9kZCIsICJsaW5lQ2FwIjogInJvdW5kIiwgImxpbmVKb2luIjogInJvdW5kIiwgIm9wYWNpdHkiOiAxLjAsICJyYWRpdXMiOiA1LCAic3Ryb2tlIjogdHJ1ZSwgIndlaWdodCI6IDN9CiAgICAgICAgICAgICkuYWRkVG8obWFwXzRkMzRjYmE5M2NiYzQ2ZDJhMTY1NGE1YjNlZWYzZDM2KTsKICAgICAgICAKICAgIAogICAgICAgIHZhciBwb3B1cF8zM2FlYjE0ZWZiOGY0NzhhYmM4NmY0MGNjOTJkY2VmMyA9IEwucG9wdXAoeyJtYXhXaWR0aCI6ICIxMDAlIn0pOwoKICAgICAgICAKICAgICAgICAgICAgdmFyIGh0bWxfZWI0MzYwNTg1NzBjNDA5OThmZjRhMTExZTVjNzdjMzQgPSAkKGA8ZGl2IGlkPSJodG1sX2ViNDM2MDU4NTcwYzQwOTk4ZmY0YTExMWU1Yzc3YzM0IiBzdHlsZT0id2lkdGg6IDEwMC4wJTsgaGVpZ2h0OiAxMDAuMCU7Ij5EYXZpc3ZpbGxlLCBDZW50cmFsIFRvcm9udG88L2Rpdj5gKVswXTsKICAgICAgICAgICAgcG9wdXBfMzNhZWIxNGVmYjhmNDc4YWJjODZmNDBjYzkyZGNlZjMuc2V0Q29udGVudChodG1sX2ViNDM2MDU4NTcwYzQwOTk4ZmY0YTExMWU1Yzc3YzM0KTsKICAgICAgICAKCiAgICAgICAgY2lyY2xlX21hcmtlcl9jZWNkZjdmMmI3MDQ0MmMxOWQ4ZWUyYjA5YWIwZmNlNi5iaW5kUG9wdXAocG9wdXBfMzNhZWIxNGVmYjhmNDc4YWJjODZmNDBjYzkyZGNlZjMpCiAgICAgICAgOwoKICAgICAgICAKICAgIAogICAgCiAgICAgICAgICAgIHZhciBjaXJjbGVfbWFya2VyX2NhNDYzY2Q3MzIyNDRiZGFiMDBkY2YxYmUwMjA5ODhiID0gTC5jaXJjbGVNYXJrZXIoCiAgICAgICAgICAgICAgICBbNDMuNjYyNjk1NiwgLTc5LjQwMDA0OTNdLAogICAgICAgICAgICAgICAgeyJidWJibGluZ01vdXNlRXZlbnRzIjogdHJ1ZSwgImNvbG9yIjogImJsdWUiLCAiZGFzaEFycmF5IjogbnVsbCwgImRhc2hPZmZzZXQiOiBudWxsLCAiZmlsbCI6IHRydWUsICJmaWxsQ29sb3IiOiAiIzMxODZjYyIsICJmaWxsT3BhY2l0eSI6IDAuNywgImZpbGxSdWxlIjogImV2ZW5vZGQiLCAibGluZUNhcCI6ICJyb3VuZCIsICJsaW5lSm9pbiI6ICJyb3VuZCIsICJvcGFjaXR5IjogMS4wLCAicmFkaXVzIjogNSwgInN0cm9rZSI6IHRydWUsICJ3ZWlnaHQiOiAzfQogICAgICAgICAgICApLmFkZFRvKG1hcF80ZDM0Y2JhOTNjYmM0NmQyYTE2NTRhNWIzZWVmM2QzNik7CiAgICAgICAgCiAgICAKICAgICAgICB2YXIgcG9wdXBfOWU1NTA0MTFiNWJlNDlhZTllMjFiYmFjMjFhMTA2NmUgPSBMLnBvcHVwKHsibWF4V2lkdGgiOiAiMTAwJSJ9KTsKCiAgICAgICAgCiAgICAgICAgICAgIHZhciBodG1sXzE0NzU4ZWVjNzgzMzQ1NDJiODZjMjE4YWM1Y2JiYWE4ID0gJChgPGRpdiBpZD0iaHRtbF8xNDc1OGVlYzc4MzM0NTQyYjg2YzIxOGFjNWNiYmFhOCIgc3R5bGU9IndpZHRoOiAxMDAuMCU7IGhlaWdodDogMTAwLjAlOyI+VW5pdmVyc2l0eSBvZiBUb3JvbnRvLCBIYXJib3JkLCBEb3dudG93biBUb3JvbnRvPC9kaXY+YClbMF07CiAgICAgICAgICAgIHBvcHVwXzllNTUwNDExYjViZTQ5YWU5ZTIxYmJhYzIxYTEwNjZlLnNldENvbnRlbnQoaHRtbF8xNDc1OGVlYzc4MzM0NTQyYjg2YzIxOGFjNWNiYmFhOCk7CiAgICAgICAgCgogICAgICAgIGNpcmNsZV9tYXJrZXJfY2E0NjNjZDczMjI0NGJkYWIwMGRjZjFiZTAyMDk4OGIuYmluZFBvcHVwKHBvcHVwXzllNTUwNDExYjViZTQ5YWU5ZTIxYmJhYzIxYTEwNjZlKQogICAgICAgIDsKCiAgICAgICAgCiAgICAKICAgIAogICAgICAgICAgICB2YXIgY2lyY2xlX21hcmtlcl9hNWJjOWU1ZGMyNzY0NWU0YTljMDlhMzliMmE2MmQ3YyA9IEwuY2lyY2xlTWFya2VyKAogICAgICAgICAgICAgICAgWzQzLjY1MTU3MDYsIC03OS40ODQ0NDk5XSwKICAgICAgICAgICAgICAgIHsiYnViYmxpbmdNb3VzZUV2ZW50cyI6IHRydWUsICJjb2xvciI6ICJibHVlIiwgImRhc2hBcnJheSI6IG51bGwsICJkYXNoT2Zmc2V0IjogbnVsbCwgImZpbGwiOiB0cnVlLCAiZmlsbENvbG9yIjogIiMzMTg2Y2MiLCAiZmlsbE9wYWNpdHkiOiAwLjcsICJmaWxsUnVsZSI6ICJldmVub2RkIiwgImxpbmVDYXAiOiAicm91bmQiLCAibGluZUpvaW4iOiAicm91bmQiLCAib3BhY2l0eSI6IDEuMCwgInJhZGl1cyI6IDUsICJzdHJva2UiOiB0cnVlLCAid2VpZ2h0IjogM30KICAgICAgICAgICAgKS5hZGRUbyhtYXBfNGQzNGNiYTkzY2JjNDZkMmExNjU0YTViM2VlZjNkMzYpOwogICAgICAgIAogICAgCiAgICAgICAgdmFyIHBvcHVwXzYxZDFhNzg3MmE3NzRlMjU5YWJjZDI0NmQ3ZGFjYTM3ID0gTC5wb3B1cCh7Im1heFdpZHRoIjogIjEwMCUifSk7CgogICAgICAgIAogICAgICAgICAgICB2YXIgaHRtbF9lMDM4MmUzYjg2YzY0ZGE5YTkzYzhjYTQ5MzgxNTYzZSA9ICQoYDxkaXYgaWQ9Imh0bWxfZTAzODJlM2I4NmM2NGRhOWE5M2M4Y2E0OTM4MTU2M2UiIHN0eWxlPSJ3aWR0aDogMTAwLjAlOyBoZWlnaHQ6IDEwMC4wJTsiPlJ1bm55bWVkZSwgU3dhbnNlYSwgV2VzdCBUb3JvbnRvPC9kaXY+YClbMF07CiAgICAgICAgICAgIHBvcHVwXzYxZDFhNzg3MmE3NzRlMjU5YWJjZDI0NmQ3ZGFjYTM3LnNldENvbnRlbnQoaHRtbF9lMDM4MmUzYjg2YzY0ZGE5YTkzYzhjYTQ5MzgxNTYzZSk7CiAgICAgICAgCgogICAgICAgIGNpcmNsZV9tYXJrZXJfYTViYzllNWRjMjc2NDVlNGE5YzA5YTM5YjJhNjJkN2MuYmluZFBvcHVwKHBvcHVwXzYxZDFhNzg3MmE3NzRlMjU5YWJjZDI0NmQ3ZGFjYTM3KQogICAgICAgIDsKCiAgICAgICAgCiAgICAKICAgIAogICAgICAgICAgICB2YXIgY2lyY2xlX21hcmtlcl9iNzE3ZjBiNWE1YTI0Mzk5OGY5NGZhOTQyYTMyMTEyNSA9IEwuY2lyY2xlTWFya2VyKAogICAgICAgICAgICAgICAgWzQzLjY4OTU3NDMsIC03OS4zODMxNTk5MDAwMDAwMV0sCiAgICAgICAgICAgICAgICB7ImJ1YmJsaW5nTW91c2VFdmVudHMiOiB0cnVlLCAiY29sb3IiOiAiYmx1ZSIsICJkYXNoQXJyYXkiOiBudWxsLCAiZGFzaE9mZnNldCI6IG51bGwsICJmaWxsIjogdHJ1ZSwgImZpbGxDb2xvciI6ICIjMzE4NmNjIiwgImZpbGxPcGFjaXR5IjogMC43LCAiZmlsbFJ1bGUiOiAiZXZlbm9kZCIsICJsaW5lQ2FwIjogInJvdW5kIiwgImxpbmVKb2luIjogInJvdW5kIiwgIm9wYWNpdHkiOiAxLjAsICJyYWRpdXMiOiA1LCAic3Ryb2tlIjogdHJ1ZSwgIndlaWdodCI6IDN9CiAgICAgICAgICAgICkuYWRkVG8obWFwXzRkMzRjYmE5M2NiYzQ2ZDJhMTY1NGE1YjNlZWYzZDM2KTsKICAgICAgICAKICAgIAogICAgICAgIHZhciBwb3B1cF9hZmRkYjI4MTNjYTA0YmUwYjQ4ZDM0OWYxNDI4N2UwYyA9IEwucG9wdXAoeyJtYXhXaWR0aCI6ICIxMDAlIn0pOwoKICAgICAgICAKICAgICAgICAgICAgdmFyIGh0bWxfZDY0YTk1ZDJmNjFiNDAzYTg5ZDZjNzkyZTg2ODczNWIgPSAkKGA8ZGl2IGlkPSJodG1sX2Q2NGE5NWQyZjYxYjQwM2E4OWQ2Yzc5MmU4Njg3MzViIiBzdHlsZT0id2lkdGg6IDEwMC4wJTsgaGVpZ2h0OiAxMDAuMCU7Ij5Nb29yZSBQYXJrLCBTdW1tZXJoaWxsIEVhc3QsIENlbnRyYWwgVG9yb250bzwvZGl2PmApWzBdOwogICAgICAgICAgICBwb3B1cF9hZmRkYjI4MTNjYTA0YmUwYjQ4ZDM0OWYxNDI4N2UwYy5zZXRDb250ZW50KGh0bWxfZDY0YTk1ZDJmNjFiNDAzYTg5ZDZjNzkyZTg2ODczNWIpOwogICAgICAgIAoKICAgICAgICBjaXJjbGVfbWFya2VyX2I3MTdmMGI1YTVhMjQzOTk4Zjk0ZmE5NDJhMzIxMTI1LmJpbmRQb3B1cChwb3B1cF9hZmRkYjI4MTNjYTA0YmUwYjQ4ZDM0OWYxNDI4N2UwYykKICAgICAgICA7CgogICAgICAgIAogICAgCiAgICAKICAgICAgICAgICAgdmFyIGNpcmNsZV9tYXJrZXJfOTU4ZGIxZjNhYTBkNDdmMzliZDdiZDY4NGFhMzAyMDUgPSBMLmNpcmNsZU1hcmtlcigKICAgICAgICAgICAgICAgIFs0My42NTMyMDU3LCAtNzkuNDAwMDQ5M10sCiAgICAgICAgICAgICAgICB7ImJ1YmJsaW5nTW91c2VFdmVudHMiOiB0cnVlLCAiY29sb3IiOiAiYmx1ZSIsICJkYXNoQXJyYXkiOiBudWxsLCAiZGFzaE9mZnNldCI6IG51bGwsICJmaWxsIjogdHJ1ZSwgImZpbGxDb2xvciI6ICIjMzE4NmNjIiwgImZpbGxPcGFjaXR5IjogMC43LCAiZmlsbFJ1bGUiOiAiZXZlbm9kZCIsICJsaW5lQ2FwIjogInJvdW5kIiwgImxpbmVKb2luIjogInJvdW5kIiwgIm9wYWNpdHkiOiAxLjAsICJyYWRpdXMiOiA1LCAic3Ryb2tlIjogdHJ1ZSwgIndlaWdodCI6IDN9CiAgICAgICAgICAgICkuYWRkVG8obWFwXzRkMzRjYmE5M2NiYzQ2ZDJhMTY1NGE1YjNlZWYzZDM2KTsKICAgICAgICAKICAgIAogICAgICAgIHZhciBwb3B1cF8wMjNhNDA4ZDFjMTU0ZDIyOWU1MTlhZGIwNjIzZTM4ZiA9IEwucG9wdXAoeyJtYXhXaWR0aCI6ICIxMDAlIn0pOwoKICAgICAgICAKICAgICAgICAgICAgdmFyIGh0bWxfZmFkMzQyMDhmN2Y4NDEzY2FkYjI2Mzk4M2ExYWI0NmYgPSAkKGA8ZGl2IGlkPSJodG1sX2ZhZDM0MjA4ZjdmODQxM2NhZGIyNjM5ODNhMWFiNDZmIiBzdHlsZT0id2lkdGg6IDEwMC4wJTsgaGVpZ2h0OiAxMDAuMCU7Ij5LZW5zaW5ndG9uIE1hcmtldCwgQ2hpbmF0b3duLCBHcmFuZ2UgUGFyaywgRG93bnRvd24gVG9yb250bzwvZGl2PmApWzBdOwogICAgICAgICAgICBwb3B1cF8wMjNhNDA4ZDFjMTU0ZDIyOWU1MTlhZGIwNjIzZTM4Zi5zZXRDb250ZW50KGh0bWxfZmFkMzQyMDhmN2Y4NDEzY2FkYjI2Mzk4M2ExYWI0NmYpOwogICAgICAgIAoKICAgICAgICBjaXJjbGVfbWFya2VyXzk1OGRiMWYzYWEwZDQ3ZjM5YmQ3YmQ2ODRhYTMwMjA1LmJpbmRQb3B1cChwb3B1cF8wMjNhNDA4ZDFjMTU0ZDIyOWU1MTlhZGIwNjIzZTM4ZikKICAgICAgICA7CgogICAgICAgIAogICAgCiAgICAKICAgICAgICAgICAgdmFyIGNpcmNsZV9tYXJrZXJfZGU1MjIyYTcxMzE0NDc5NmJhY2VkZGJlYjU1YWQ0YTggPSBMLmNpcmNsZU1hcmtlcigKICAgICAgICAgICAgICAgIFs0My42ODY0MTIyOTk5OTk5OSwgLTc5LjQwMDA0OTNdLAogICAgICAgICAgICAgICAgeyJidWJibGluZ01vdXNlRXZlbnRzIjogdHJ1ZSwgImNvbG9yIjogImJsdWUiLCAiZGFzaEFycmF5IjogbnVsbCwgImRhc2hPZmZzZXQiOiBudWxsLCAiZmlsbCI6IHRydWUsICJmaWxsQ29sb3IiOiAiIzMxODZjYyIsICJmaWxsT3BhY2l0eSI6IDAuNywgImZpbGxSdWxlIjogImV2ZW5vZGQiLCAibGluZUNhcCI6ICJyb3VuZCIsICJsaW5lSm9pbiI6ICJyb3VuZCIsICJvcGFjaXR5IjogMS4wLCAicmFkaXVzIjogNSwgInN0cm9rZSI6IHRydWUsICJ3ZWlnaHQiOiAzfQogICAgICAgICAgICApLmFkZFRvKG1hcF80ZDM0Y2JhOTNjYmM0NmQyYTE2NTRhNWIzZWVmM2QzNik7CiAgICAgICAgCiAgICAKICAgICAgICB2YXIgcG9wdXBfNmE3YjZmZjM3NDQwNGVkYWI1MGYwMDNiMzUyMTgwOTUgPSBMLnBvcHVwKHsibWF4V2lkdGgiOiAiMTAwJSJ9KTsKCiAgICAgICAgCiAgICAgICAgICAgIHZhciBodG1sXzhmYTY5MWNkNzRhOTQwMTNhNmQzMjdkZWRjZTRjMDY5ID0gJChgPGRpdiBpZD0iaHRtbF84ZmE2OTFjZDc0YTk0MDEzYTZkMzI3ZGVkY2U0YzA2OSIgc3R5bGU9IndpZHRoOiAxMDAuMCU7IGhlaWdodDogMTAwLjAlOyI+U3VtbWVyaGlsbCBXZXN0LCBSYXRobmVsbHksIFNvdXRoIEhpbGwsIEZvcmVzdCBIaWxsIFNFLCBEZWVyIFBhcmssIENlbnRyYWwgVG9yb250bzwvZGl2PmApWzBdOwogICAgICAgICAgICBwb3B1cF82YTdiNmZmMzc0NDA0ZWRhYjUwZjAwM2IzNTIxODA5NS5zZXRDb250ZW50KGh0bWxfOGZhNjkxY2Q3NGE5NDAxM2E2ZDMyN2RlZGNlNGMwNjkpOwogICAgICAgIAoKICAgICAgICBjaXJjbGVfbWFya2VyX2RlNTIyMmE3MTMxNDQ3OTZiYWNlZGRiZWI1NWFkNGE4LmJpbmRQb3B1cChwb3B1cF82YTdiNmZmMzc0NDA0ZWRhYjUwZjAwM2IzNTIxODA5NSkKICAgICAgICA7CgogICAgICAgIAogICAgCiAgICAKICAgICAgICAgICAgdmFyIGNpcmNsZV9tYXJrZXJfYzNmNzBkNDU5NTU1NDk0ZWEwYTExY2I2MTkxMWMzYWEgPSBMLmNpcmNsZU1hcmtlcigKICAgICAgICAgICAgICAgIFs0My42Mjg5NDY3LCAtNzkuMzk0NDE5OV0sCiAgICAgICAgICAgICAgICB7ImJ1YmJsaW5nTW91c2VFdmVudHMiOiB0cnVlLCAiY29sb3IiOiAiYmx1ZSIsICJkYXNoQXJyYXkiOiBudWxsLCAiZGFzaE9mZnNldCI6IG51bGwsICJmaWxsIjogdHJ1ZSwgImZpbGxDb2xvciI6ICIjMzE4NmNjIiwgImZpbGxPcGFjaXR5IjogMC43LCAiZmlsbFJ1bGUiOiAiZXZlbm9kZCIsICJsaW5lQ2FwIjogInJvdW5kIiwgImxpbmVKb2luIjogInJvdW5kIiwgIm9wYWNpdHkiOiAxLjAsICJyYWRpdXMiOiA1LCAic3Ryb2tlIjogdHJ1ZSwgIndlaWdodCI6IDN9CiAgICAgICAgICAgICkuYWRkVG8obWFwXzRkMzRjYmE5M2NiYzQ2ZDJhMTY1NGE1YjNlZWYzZDM2KTsKICAgICAgICAKICAgIAogICAgICAgIHZhciBwb3B1cF83OTRlMzdjZDMyZmU0NDRmOWJiZGM3ZjZjNTRjMjIzZSA9IEwucG9wdXAoeyJtYXhXaWR0aCI6ICIxMDAlIn0pOwoKICAgICAgICAKICAgICAgICAgICAgdmFyIGh0bWxfOWY1ZjZkY2I0NmVmNDY3OTk2NmYyMDMxNTE5ZDUxOTQgPSAkKGA8ZGl2IGlkPSJodG1sXzlmNWY2ZGNiNDZlZjQ2Nzk5NjZmMjAzMTUxOWQ1MTk0IiBzdHlsZT0id2lkdGg6IDEwMC4wJTsgaGVpZ2h0OiAxMDAuMCU7Ij5DTiBUb3dlciwgS2luZyBhbmQgU3BhZGluYSwgUmFpbHdheSBMYW5kcywgSGFyYm91cmZyb250IFdlc3QsIEJhdGh1cnN0IFF1YXksIFNvdXRoIE5pYWdhcmEsIElzbGFuZCBhaXJwb3J0LCBEb3dudG93biBUb3JvbnRvPC9kaXY+YClbMF07CiAgICAgICAgICAgIHBvcHVwXzc5NGUzN2NkMzJmZTQ0NGY5YmJkYzdmNmM1NGMyMjNlLnNldENvbnRlbnQoaHRtbF85ZjVmNmRjYjQ2ZWY0Njc5OTY2ZjIwMzE1MTlkNTE5NCk7CiAgICAgICAgCgogICAgICAgIGNpcmNsZV9tYXJrZXJfYzNmNzBkNDU5NTU1NDk0ZWEwYTExY2I2MTkxMWMzYWEuYmluZFBvcHVwKHBvcHVwXzc5NGUzN2NkMzJmZTQ0NGY5YmJkYzdmNmM1NGMyMjNlKQogICAgICAgIDsKCiAgICAgICAgCiAgICAKICAgIAogICAgICAgICAgICB2YXIgY2lyY2xlX21hcmtlcl9hMzcyMjkxOWNmODY0ODY2YmVmODVhOGViY2Q4ZmNlYSA9IEwuY2lyY2xlTWFya2VyKAogICAgICAgICAgICAgICAgWzQzLjY3OTU2MjYsIC03OS4zNzc1Mjk0MDAwMDAwMV0sCiAgICAgICAgICAgICAgICB7ImJ1YmJsaW5nTW91c2VFdmVudHMiOiB0cnVlLCAiY29sb3IiOiAiYmx1ZSIsICJkYXNoQXJyYXkiOiBudWxsLCAiZGFzaE9mZnNldCI6IG51bGwsICJmaWxsIjogdHJ1ZSwgImZpbGxDb2xvciI6ICIjMzE4NmNjIiwgImZpbGxPcGFjaXR5IjogMC43LCAiZmlsbFJ1bGUiOiAiZXZlbm9kZCIsICJsaW5lQ2FwIjogInJvdW5kIiwgImxpbmVKb2luIjogInJvdW5kIiwgIm9wYWNpdHkiOiAxLjAsICJyYWRpdXMiOiA1LCAic3Ryb2tlIjogdHJ1ZSwgIndlaWdodCI6IDN9CiAgICAgICAgICAgICkuYWRkVG8obWFwXzRkMzRjYmE5M2NiYzQ2ZDJhMTY1NGE1YjNlZWYzZDM2KTsKICAgICAgICAKICAgIAogICAgICAgIHZhciBwb3B1cF8xMzM3NDkwOGZhZGU0ODc1OTQ3YzgxNzA1OTE2MTQ2OCA9IEwucG9wdXAoeyJtYXhXaWR0aCI6ICIxMDAlIn0pOwoKICAgICAgICAKICAgICAgICAgICAgdmFyIGh0bWxfMzY3OTg3MWIwYjdjNDQzMmIzMWYwZmVkNTY0NWY5NjcgPSAkKGA8ZGl2IGlkPSJodG1sXzM2Nzk4NzFiMGI3YzQ0MzJiMzFmMGZlZDU2NDVmOTY3IiBzdHlsZT0id2lkdGg6IDEwMC4wJTsgaGVpZ2h0OiAxMDAuMCU7Ij5Sb3NlZGFsZSwgRG93bnRvd24gVG9yb250bzwvZGl2PmApWzBdOwogICAgICAgICAgICBwb3B1cF8xMzM3NDkwOGZhZGU0ODc1OTQ3YzgxNzA1OTE2MTQ2OC5zZXRDb250ZW50KGh0bWxfMzY3OTg3MWIwYjdjNDQzMmIzMWYwZmVkNTY0NWY5NjcpOwogICAgICAgIAoKICAgICAgICBjaXJjbGVfbWFya2VyX2EzNzIyOTE5Y2Y4NjQ4NjZiZWY4NWE4ZWJjZDhmY2VhLmJpbmRQb3B1cChwb3B1cF8xMzM3NDkwOGZhZGU0ODc1OTQ3YzgxNzA1OTE2MTQ2OCkKICAgICAgICA7CgogICAgICAgIAogICAgCiAgICAKICAgICAgICAgICAgdmFyIGNpcmNsZV9tYXJrZXJfZjk1NWI2MjZhNDA3NGVmNGFkMjgyYjk1NDQ1YTUxNDIgPSBMLmNpcmNsZU1hcmtlcigKICAgICAgICAgICAgICAgIFs0My42NDY0MzUyLCAtNzkuMzc0ODQ1OTk5OTk5OTldLAogICAgICAgICAgICAgICAgeyJidWJibGluZ01vdXNlRXZlbnRzIjogdHJ1ZSwgImNvbG9yIjogImJsdWUiLCAiZGFzaEFycmF5IjogbnVsbCwgImRhc2hPZmZzZXQiOiBudWxsLCAiZmlsbCI6IHRydWUsICJmaWxsQ29sb3IiOiAiIzMxODZjYyIsICJmaWxsT3BhY2l0eSI6IDAuNywgImZpbGxSdWxlIjogImV2ZW5vZGQiLCAibGluZUNhcCI6ICJyb3VuZCIsICJsaW5lSm9pbiI6ICJyb3VuZCIsICJvcGFjaXR5IjogMS4wLCAicmFkaXVzIjogNSwgInN0cm9rZSI6IHRydWUsICJ3ZWlnaHQiOiAzfQogICAgICAgICAgICApLmFkZFRvKG1hcF80ZDM0Y2JhOTNjYmM0NmQyYTE2NTRhNWIzZWVmM2QzNik7CiAgICAgICAgCiAgICAKICAgICAgICB2YXIgcG9wdXBfMjFjODEzYTU1NWE5NGMyMGFmYWMwMzRkZDc0YWYzYTggPSBMLnBvcHVwKHsibWF4V2lkdGgiOiAiMTAwJSJ9KTsKCiAgICAgICAgCiAgICAgICAgICAgIHZhciBodG1sXzBjN2EwMDU3OThjNzRjYmE4YzBhYWRiMGYwNWY0YzM0ID0gJChgPGRpdiBpZD0iaHRtbF8wYzdhMDA1Nzk4Yzc0Y2JhOGMwYWFkYjBmMDVmNGMzNCIgc3R5bGU9IndpZHRoOiAxMDAuMCU7IGhlaWdodDogMTAwLjAlOyI+U3RuIEEgUE8gQm94ZXMsIERvd250b3duIFRvcm9udG88L2Rpdj5gKVswXTsKICAgICAgICAgICAgcG9wdXBfMjFjODEzYTU1NWE5NGMyMGFmYWMwMzRkZDc0YWYzYTguc2V0Q29udGVudChodG1sXzBjN2EwMDU3OThjNzRjYmE4YzBhYWRiMGYwNWY0YzM0KTsKICAgICAgICAKCiAgICAgICAgY2lyY2xlX21hcmtlcl9mOTU1YjYyNmE0MDc0ZWY0YWQyODJiOTU0NDVhNTE0Mi5iaW5kUG9wdXAocG9wdXBfMjFjODEzYTU1NWE5NGMyMGFmYWMwMzRkZDc0YWYzYTgpCiAgICAgICAgOwoKICAgICAgICAKICAgIAogICAgCiAgICAgICAgICAgIHZhciBjaXJjbGVfbWFya2VyX2E4ZTA4MWVhNDUxZTRmYTI5MTNhMzczMmYzZmRhMTQyID0gTC5jaXJjbGVNYXJrZXIoCiAgICAgICAgICAgICAgICBbNDMuNjY3OTY3LCAtNzkuMzY3Njc1M10sCiAgICAgICAgICAgICAgICB7ImJ1YmJsaW5nTW91c2VFdmVudHMiOiB0cnVlLCAiY29sb3IiOiAiYmx1ZSIsICJkYXNoQXJyYXkiOiBudWxsLCAiZGFzaE9mZnNldCI6IG51bGwsICJmaWxsIjogdHJ1ZSwgImZpbGxDb2xvciI6ICIjMzE4NmNjIiwgImZpbGxPcGFjaXR5IjogMC43LCAiZmlsbFJ1bGUiOiAiZXZlbm9kZCIsICJsaW5lQ2FwIjogInJvdW5kIiwgImxpbmVKb2luIjogInJvdW5kIiwgIm9wYWNpdHkiOiAxLjAsICJyYWRpdXMiOiA1LCAic3Ryb2tlIjogdHJ1ZSwgIndlaWdodCI6IDN9CiAgICAgICAgICAgICkuYWRkVG8obWFwXzRkMzRjYmE5M2NiYzQ2ZDJhMTY1NGE1YjNlZWYzZDM2KTsKICAgICAgICAKICAgIAogICAgICAgIHZhciBwb3B1cF84Y2U1YTg0ZjZmMzM0YTc5OWE2Yjg3NTgxMzIyNWY0NCA9IEwucG9wdXAoeyJtYXhXaWR0aCI6ICIxMDAlIn0pOwoKICAgICAgICAKICAgICAgICAgICAgdmFyIGh0bWxfOTllZDU4ODI1OGM0NDI5YWJiZDY0ZTk0NDdmMTliZWEgPSAkKGA8ZGl2IGlkPSJodG1sXzk5ZWQ1ODgyNThjNDQyOWFiYmQ2NGU5NDQ3ZjE5YmVhIiBzdHlsZT0id2lkdGg6IDEwMC4wJTsgaGVpZ2h0OiAxMDAuMCU7Ij5TdC4gSmFtZXMgVG93biwgQ2FiYmFnZXRvd24sIERvd250b3duIFRvcm9udG88L2Rpdj5gKVswXTsKICAgICAgICAgICAgcG9wdXBfOGNlNWE4NGY2ZjMzNGE3OTlhNmI4NzU4MTMyMjVmNDQuc2V0Q29udGVudChodG1sXzk5ZWQ1ODgyNThjNDQyOWFiYmQ2NGU5NDQ3ZjE5YmVhKTsKICAgICAgICAKCiAgICAgICAgY2lyY2xlX21hcmtlcl9hOGUwODFlYTQ1MWU0ZmEyOTEzYTM3MzJmM2ZkYTE0Mi5iaW5kUG9wdXAocG9wdXBfOGNlNWE4NGY2ZjMzNGE3OTlhNmI4NzU4MTMyMjVmNDQpCiAgICAgICAgOwoKICAgICAgICAKICAgIAogICAgCiAgICAgICAgICAgIHZhciBjaXJjbGVfbWFya2VyXzc0MDg2Njg2OGEzODQxYmFhN2YzZmMxZGQzNWUwYzFkID0gTC5jaXJjbGVNYXJrZXIoCiAgICAgICAgICAgICAgICBbNDMuNjQ4NDI5MiwgLTc5LjM4MjI4MDJdLAogICAgICAgICAgICAgICAgeyJidWJibGluZ01vdXNlRXZlbnRzIjogdHJ1ZSwgImNvbG9yIjogImJsdWUiLCAiZGFzaEFycmF5IjogbnVsbCwgImRhc2hPZmZzZXQiOiBudWxsLCAiZmlsbCI6IHRydWUsICJmaWxsQ29sb3IiOiAiIzMxODZjYyIsICJmaWxsT3BhY2l0eSI6IDAuNywgImZpbGxSdWxlIjogImV2ZW5vZGQiLCAibGluZUNhcCI6ICJyb3VuZCIsICJsaW5lSm9pbiI6ICJyb3VuZCIsICJvcGFjaXR5IjogMS4wLCAicmFkaXVzIjogNSwgInN0cm9rZSI6IHRydWUsICJ3ZWlnaHQiOiAzfQogICAgICAgICAgICApLmFkZFRvKG1hcF80ZDM0Y2JhOTNjYmM0NmQyYTE2NTRhNWIzZWVmM2QzNik7CiAgICAgICAgCiAgICAKICAgICAgICB2YXIgcG9wdXBfNTVhMTM3OGI0OTUxNGM5YTkwNmQ1N2Y5NzNjNmE1ZWMgPSBMLnBvcHVwKHsibWF4V2lkdGgiOiAiMTAwJSJ9KTsKCiAgICAgICAgCiAgICAgICAgICAgIHZhciBodG1sXzE4MDM2YWQ3ZGEwZjQ0ZGI5YjU5MjRkZTMyZTA1ZGE0ID0gJChgPGRpdiBpZD0iaHRtbF8xODAzNmFkN2RhMGY0NGRiOWI1OTI0ZGUzMmUwNWRhNCIgc3R5bGU9IndpZHRoOiAxMDAuMCU7IGhlaWdodDogMTAwLjAlOyI+Rmlyc3QgQ2FuYWRpYW4gUGxhY2UsIFVuZGVyZ3JvdW5kIGNpdHksIERvd250b3duIFRvcm9udG88L2Rpdj5gKVswXTsKICAgICAgICAgICAgcG9wdXBfNTVhMTM3OGI0OTUxNGM5YTkwNmQ1N2Y5NzNjNmE1ZWMuc2V0Q29udGVudChodG1sXzE4MDM2YWQ3ZGEwZjQ0ZGI5YjU5MjRkZTMyZTA1ZGE0KTsKICAgICAgICAKCiAgICAgICAgY2lyY2xlX21hcmtlcl83NDA4NjY4NjhhMzg0MWJhYTdmM2ZjMWRkMzVlMGMxZC5iaW5kUG9wdXAocG9wdXBfNTVhMTM3OGI0OTUxNGM5YTkwNmQ1N2Y5NzNjNmE1ZWMpCiAgICAgICAgOwoKICAgICAgICAKICAgIAogICAgCiAgICAgICAgICAgIHZhciBjaXJjbGVfbWFya2VyX2VhNWU4ZDE3MDM2NjQ0N2Q5OGQ5OTg2MWJlMDYzMmUwID0gTC5jaXJjbGVNYXJrZXIoCiAgICAgICAgICAgICAgICBbNDMuNjY1ODU5OSwgLTc5LjM4MzE1OTkwMDAwMDAxXSwKICAgICAgICAgICAgICAgIHsiYnViYmxpbmdNb3VzZUV2ZW50cyI6IHRydWUsICJjb2xvciI6ICJibHVlIiwgImRhc2hBcnJheSI6IG51bGwsICJkYXNoT2Zmc2V0IjogbnVsbCwgImZpbGwiOiB0cnVlLCAiZmlsbENvbG9yIjogIiMzMTg2Y2MiLCAiZmlsbE9wYWNpdHkiOiAwLjcsICJmaWxsUnVsZSI6ICJldmVub2RkIiwgImxpbmVDYXAiOiAicm91bmQiLCAibGluZUpvaW4iOiAicm91bmQiLCAib3BhY2l0eSI6IDEuMCwgInJhZGl1cyI6IDUsICJzdHJva2UiOiB0cnVlLCAid2VpZ2h0IjogM30KICAgICAgICAgICAgKS5hZGRUbyhtYXBfNGQzNGNiYTkzY2JjNDZkMmExNjU0YTViM2VlZjNkMzYpOwogICAgICAgIAogICAgCiAgICAgICAgdmFyIHBvcHVwX2QyZGY0ODJmOTQ1MTQ5YzFiMzhiZDdkYTA3NWRlOWQ0ID0gTC5wb3B1cCh7Im1heFdpZHRoIjogIjEwMCUifSk7CgogICAgICAgIAogICAgICAgICAgICB2YXIgaHRtbF80MWRkOTY3NzkwYmI0YzRkYTg2OGFmODNiNjdiY2I5MSA9ICQoYDxkaXYgaWQ9Imh0bWxfNDFkZDk2Nzc5MGJiNGM0ZGE4NjhhZjgzYjY3YmNiOTEiIHN0eWxlPSJ3aWR0aDogMTAwLjAlOyBoZWlnaHQ6IDEwMC4wJTsiPkNodXJjaCBhbmQgV2VsbGVzbGV5LCBEb3dudG93biBUb3JvbnRvPC9kaXY+YClbMF07CiAgICAgICAgICAgIHBvcHVwX2QyZGY0ODJmOTQ1MTQ5YzFiMzhiZDdkYTA3NWRlOWQ0LnNldENvbnRlbnQoaHRtbF80MWRkOTY3NzkwYmI0YzRkYTg2OGFmODNiNjdiY2I5MSk7CiAgICAgICAgCgogICAgICAgIGNpcmNsZV9tYXJrZXJfZWE1ZThkMTcwMzY2NDQ3ZDk4ZDk5ODYxYmUwNjMyZTAuYmluZFBvcHVwKHBvcHVwX2QyZGY0ODJmOTQ1MTQ5YzFiMzhiZDdkYTA3NWRlOWQ0KQogICAgICAgIDsKCiAgICAgICAgCiAgICAKICAgIAogICAgICAgICAgICB2YXIgY2lyY2xlX21hcmtlcl80NTQ2ZTJiYzNhZWE0MzA2YTJjNWUwYjVjY2QxYTg3OSA9IEwuY2lyY2xlTWFya2VyKAogICAgICAgICAgICAgICAgWzQzLjY2Mjc0MzksIC03OS4zMjE1NThdLAogICAgICAgICAgICAgICAgeyJidWJibGluZ01vdXNlRXZlbnRzIjogdHJ1ZSwgImNvbG9yIjogImJsdWUiLCAiZGFzaEFycmF5IjogbnVsbCwgImRhc2hPZmZzZXQiOiBudWxsLCAiZmlsbCI6IHRydWUsICJmaWxsQ29sb3IiOiAiIzMxODZjYyIsICJmaWxsT3BhY2l0eSI6IDAuNywgImZpbGxSdWxlIjogImV2ZW5vZGQiLCAibGluZUNhcCI6ICJyb3VuZCIsICJsaW5lSm9pbiI6ICJyb3VuZCIsICJvcGFjaXR5IjogMS4wLCAicmFkaXVzIjogNSwgInN0cm9rZSI6IHRydWUsICJ3ZWlnaHQiOiAzfQogICAgICAgICAgICApLmFkZFRvKG1hcF80ZDM0Y2JhOTNjYmM0NmQyYTE2NTRhNWIzZWVmM2QzNik7CiAgICAgICAgCiAgICAKICAgICAgICB2YXIgcG9wdXBfYzZmNzI4OWY5YzgxNGE0YWE0MGFkYzljOGU4NzVjMTIgPSBMLnBvcHVwKHsibWF4V2lkdGgiOiAiMTAwJSJ9KTsKCiAgICAgICAgCiAgICAgICAgICAgIHZhciBodG1sX2ViM2U4YzdkZDVmYjRlZTU5NGVlZjBkNzQ1NDQ0ZTRmID0gJChgPGRpdiBpZD0iaHRtbF9lYjNlOGM3ZGQ1ZmI0ZWU1OTRlZWYwZDc0NTQ0NGU0ZiIgc3R5bGU9IndpZHRoOiAxMDAuMCU7IGhlaWdodDogMTAwLjAlOyI+QnVzaW5lc3MgcmVwbHkgbWFpbCBQcm9jZXNzaW5nIENlbnRyZSwgU291dGggQ2VudHJhbCBMZXR0ZXIgUHJvY2Vzc2luZyBQbGFudCBUb3JvbnRvLCBFYXN0IFRvcm9udG88L2Rpdj5gKVswXTsKICAgICAgICAgICAgcG9wdXBfYzZmNzI4OWY5YzgxNGE0YWE0MGFkYzljOGU4NzVjMTIuc2V0Q29udGVudChodG1sX2ViM2U4YzdkZDVmYjRlZTU5NGVlZjBkNzQ1NDQ0ZTRmKTsKICAgICAgICAKCiAgICAgICAgY2lyY2xlX21hcmtlcl80NTQ2ZTJiYzNhZWE0MzA2YTJjNWUwYjVjY2QxYTg3OS5iaW5kUG9wdXAocG9wdXBfYzZmNzI4OWY5YzgxNGE0YWE0MGFkYzljOGU4NzVjMTIpCiAgICAgICAgOwoKICAgICAgICAKICAgIAo8L3NjcmlwdD4= onload=\"this.contentDocument.open();this.contentDocument.write(atob(this.getAttribute('data-html')));this.contentDocument.close();\" allowfullscreen webkitallowfullscreen mozallowfullscreen></iframe></div></div>"
      ],
      "text/plain": [
       "<folium.folium.Map at 0x11e218280>"
      ]
     },
     "execution_count": 39,
     "metadata": {},
     "output_type": "execute_result"
    }
   ],
   "source": [
    "map_dt = folium.Map(location=[latitude, longitude], zoom_start=11.5)\n",
    "\n",
    "# add markers to map\n",
    "for lat, lng, borough, neighborhood in zip(dt_data['Latitude'],\n",
    "                                           dt_data['Longitude'],\n",
    "                                           dt_data['Borough'],\n",
    "                                           dt_data['Neighbourhood']):\n",
    "    label = '{}, {}'.format(neighborhood, borough)\n",
    "    label = folium.Popup(label, parse_html=True)\n",
    "    folium.CircleMarker(\n",
    "        [lat, lng],\n",
    "        radius=5,\n",
    "        popup=label,\n",
    "        color='blue',\n",
    "        fill=True,\n",
    "        fill_color='#3186cc',\n",
    "        fill_opacity=0.7,\n",
    "        parse_html=False).add_to(map_dt)  \n",
    "    \n",
    "map_dt"
   ]
  },
  {
   "cell_type": "code",
   "execution_count": 16,
   "metadata": {},
   "outputs": [
    {
     "name": "stdout",
     "output_type": "stream",
     "text": [
      "The dataset has size (39, 5)\n"
     ]
    }
   ],
   "source": [
    "dt_data.head()\n",
    "print('The dataset has size',dt_data.shape)"
   ]
  },
  {
   "cell_type": "markdown",
   "metadata": {},
   "source": [
    "We use Foursquare to search for nearby venues."
   ]
  },
  {
   "cell_type": "code",
   "execution_count": 17,
   "metadata": {},
   "outputs": [],
   "source": [
    "## include Foursquare credentials\n",
    "client_id = 'HSFOOGUP2UOTMX3R1KMPZLFMTWQLAJEDDVXFPQTTEF2E1YHI'\n",
    "client_secret = 'I11LHMK5D1HWOEEFU43APX40EYGT0EWWTWTXYTAQC3IMMIZU'\n",
    "VERSION = '20180605' # Foursquare API version"
   ]
  },
  {
   "cell_type": "code",
   "execution_count": 18,
   "metadata": {},
   "outputs": [],
   "source": [
    "## define the function to get nearby venues\n",
    "\n",
    "def getNearbyVenues(names, latitudes, longitudes, CLIENT_ID,CLIENT_SECRET,radius=500,LIMIT = 50):\n",
    "    \n",
    "    venues_list=[]\n",
    "    for name, lat, lng in zip(names, latitudes, longitudes):\n",
    "        print(name)\n",
    "            \n",
    "        # create the API request URL\n",
    "        url = 'https://api.foursquare.com/v2/venues/explore?&client_id={}&client_secret={}&v={}&ll={},{}&radius={}&limit={}'.format(\n",
    "            CLIENT_ID, \n",
    "            CLIENT_SECRET, \n",
    "            VERSION, \n",
    "            lat, \n",
    "            lng, \n",
    "            radius, \n",
    "            LIMIT)\n",
    "            \n",
    "        # make the GET request\n",
    "        results = requests.get(url).json()[\"response\"]['groups'][0]['items']\n",
    "        \n",
    "        # return only relevant information for each nearby venue\n",
    "        venues_list.append([(\n",
    "            name, \n",
    "            lat, \n",
    "            lng, \n",
    "            v['venue']['name'], \n",
    "            v['venue']['location']['lat'], \n",
    "            v['venue']['location']['lng'],  \n",
    "            v['venue']['categories'][0]['name']) for v in results])\n",
    "\n",
    "    nearby_venues = pd.DataFrame([item for venue_list in venues_list for item in venue_list])\n",
    "    nearby_venues.columns = ['Neighbourhood', \n",
    "                  'Neighborhood Latitude', \n",
    "                  'Neighborhood Longitude', \n",
    "                  'Venue', \n",
    "                  'Venue Latitude', \n",
    "                  'Venue Longitude', \n",
    "                  'Venue Category']\n",
    "    \n",
    "    return(nearby_venues)"
   ]
  },
  {
   "cell_type": "markdown",
   "metadata": {},
   "source": [
    "Use the function to scrapte nearby venues in Toronto"
   ]
  },
  {
   "cell_type": "code",
   "execution_count": 19,
   "metadata": {},
   "outputs": [
    {
     "name": "stdout",
     "output_type": "stream",
     "text": [
      "Regent Park, Harbourfront\n",
      "Queen's Park, Ontario Provincial Government\n",
      "Garden District, Ryerson\n",
      "St. James Town\n",
      "The Beaches\n",
      "Berczy Park\n",
      "Central Bay Street\n",
      "Christie\n",
      "Richmond, Adelaide, King\n",
      "Dufferin, Dovercourt Village\n",
      "Harbourfront East, Union Station, Toronto Islands\n",
      "Little Portugal, Trinity\n",
      "The Danforth West, Riverdale\n",
      "Toronto Dominion Centre, Design Exchange\n",
      "Brockton, Parkdale Village, Exhibition Place\n",
      "India Bazaar, The Beaches West\n",
      "Commerce Court, Victoria Hotel\n",
      "Studio District\n",
      "Lawrence Park\n",
      "Roselawn\n",
      "Davisville North\n",
      "Forest Hill North & West, Forest Hill Road Park\n",
      "High Park, The Junction South\n",
      "North Toronto West, Lawrence Park\n",
      "The Annex, North Midtown, Yorkville\n",
      "Parkdale, Roncesvalles\n",
      "Davisville\n",
      "University of Toronto, Harbord\n",
      "Runnymede, Swansea\n",
      "Moore Park, Summerhill East\n",
      "Kensington Market, Chinatown, Grange Park\n",
      "Summerhill West, Rathnelly, South Hill, Forest Hill SE, Deer Park\n",
      "CN Tower, King and Spadina, Railway Lands, Harbourfront West, Bathurst Quay, South Niagara, Island airport\n",
      "Rosedale\n",
      "Stn A PO Boxes\n",
      "St. James Town, Cabbagetown\n",
      "First Canadian Place, Underground city\n",
      "Church and Wellesley\n",
      "Business reply mail Processing Centre, South Central Letter Processing Plant Toronto\n"
     ]
    }
   ],
   "source": [
    "dt_venues = getNearbyVenues(names=\n",
    "                            dt_data['Neighbourhood'],\n",
    "                            latitudes=dt_data['Latitude'],\n",
    "                            longitudes=dt_data['Longitude'],\n",
    "                            CLIENT_ID = client_id,\n",
    "                            CLIENT_SECRET = client_secret\n",
    "                                  )"
   ]
  },
  {
   "cell_type": "code",
   "execution_count": 21,
   "metadata": {},
   "outputs": [
    {
     "name": "stdout",
     "output_type": "stream",
     "text": [
      "(1187, 7)\n",
      "There are 212 uniques categories in Toronto.\n"
     ]
    }
   ],
   "source": [
    "print(dt_venues.shape)\n",
    "dt_venues.groupby('Neighbourhood').count()\n",
    "print('There are {} uniques categories in Toronto.'.format(len(dt_venues['Venue Category'].unique())))"
   ]
  },
  {
   "cell_type": "markdown",
   "metadata": {},
   "source": [
    "We clean the retrieved data and clean it."
   ]
  },
  {
   "cell_type": "code",
   "execution_count": 22,
   "metadata": {},
   "outputs": [
    {
     "data": {
      "text/plain": [
       "(39, 213)"
      ]
     },
     "execution_count": 22,
     "metadata": {},
     "output_type": "execute_result"
    }
   ],
   "source": [
    "# one hot encoding\n",
    "dt_onehot = pd.get_dummies(dt_venues[['Venue Category']], prefix=\"\", prefix_sep=\"\")\n",
    "\n",
    "# add neighborhood column back to dataframe\n",
    "dt_onehot['Neighbourhood'] = dt_venues['Neighbourhood'] \n",
    "\n",
    "# move neighborhood column to the first column\n",
    "fixed_columns = [dt_onehot.columns[-1]] + list(dt_onehot.columns[:-1])\n",
    "dt_onehot = dt_onehot[fixed_columns]\n",
    "\n",
    "dt_onehot.head()\n",
    "dt_onehot.shape\n",
    "\n",
    "dt_grouped = dt_onehot.groupby('Neighbourhood').mean().reset_index()\n",
    "dt_grouped\n",
    "\n",
    "dt_grouped.shape"
   ]
  },
  {
   "cell_type": "code",
   "execution_count": 24,
   "metadata": {},
   "outputs": [
    {
     "data": {
      "text/html": [
       "<div>\n",
       "<style scoped>\n",
       "    .dataframe tbody tr th:only-of-type {\n",
       "        vertical-align: middle;\n",
       "    }\n",
       "\n",
       "    .dataframe tbody tr th {\n",
       "        vertical-align: top;\n",
       "    }\n",
       "\n",
       "    .dataframe thead th {\n",
       "        text-align: right;\n",
       "    }\n",
       "</style>\n",
       "<table border=\"1\" class=\"dataframe\">\n",
       "  <thead>\n",
       "    <tr style=\"text-align: right;\">\n",
       "      <th></th>\n",
       "      <th>Neighbourhood</th>\n",
       "      <th>Airport</th>\n",
       "      <th>Airport Food Court</th>\n",
       "      <th>Airport Lounge</th>\n",
       "      <th>Airport Service</th>\n",
       "      <th>Airport Terminal</th>\n",
       "      <th>American Restaurant</th>\n",
       "      <th>Antique Shop</th>\n",
       "      <th>Aquarium</th>\n",
       "      <th>Art Gallery</th>\n",
       "      <th>...</th>\n",
       "      <th>Theme Restaurant</th>\n",
       "      <th>Toy / Game Store</th>\n",
       "      <th>Trail</th>\n",
       "      <th>Train Station</th>\n",
       "      <th>Vegetarian / Vegan Restaurant</th>\n",
       "      <th>Video Game Store</th>\n",
       "      <th>Vietnamese Restaurant</th>\n",
       "      <th>Wine Bar</th>\n",
       "      <th>Wine Shop</th>\n",
       "      <th>Yoga Studio</th>\n",
       "    </tr>\n",
       "  </thead>\n",
       "  <tbody>\n",
       "    <tr>\n",
       "      <th>0</th>\n",
       "      <td>Berczy Park</td>\n",
       "      <td>0.000000</td>\n",
       "      <td>0.000000</td>\n",
       "      <td>0.000000</td>\n",
       "      <td>0.000000</td>\n",
       "      <td>0.000000</td>\n",
       "      <td>0.0</td>\n",
       "      <td>0.0</td>\n",
       "      <td>0.0</td>\n",
       "      <td>0.02</td>\n",
       "      <td>...</td>\n",
       "      <td>0.0</td>\n",
       "      <td>0.0</td>\n",
       "      <td>0.0</td>\n",
       "      <td>0.0</td>\n",
       "      <td>0.02</td>\n",
       "      <td>0.0</td>\n",
       "      <td>0.0</td>\n",
       "      <td>0.00</td>\n",
       "      <td>0.0</td>\n",
       "      <td>0.00</td>\n",
       "    </tr>\n",
       "    <tr>\n",
       "      <th>1</th>\n",
       "      <td>Brockton, Parkdale Village, Exhibition Place</td>\n",
       "      <td>0.000000</td>\n",
       "      <td>0.000000</td>\n",
       "      <td>0.000000</td>\n",
       "      <td>0.000000</td>\n",
       "      <td>0.000000</td>\n",
       "      <td>0.0</td>\n",
       "      <td>0.0</td>\n",
       "      <td>0.0</td>\n",
       "      <td>0.00</td>\n",
       "      <td>...</td>\n",
       "      <td>0.0</td>\n",
       "      <td>0.0</td>\n",
       "      <td>0.0</td>\n",
       "      <td>0.0</td>\n",
       "      <td>0.00</td>\n",
       "      <td>0.0</td>\n",
       "      <td>0.0</td>\n",
       "      <td>0.00</td>\n",
       "      <td>0.0</td>\n",
       "      <td>0.00</td>\n",
       "    </tr>\n",
       "    <tr>\n",
       "      <th>2</th>\n",
       "      <td>Business reply mail Processing Centre, South C...</td>\n",
       "      <td>0.000000</td>\n",
       "      <td>0.000000</td>\n",
       "      <td>0.000000</td>\n",
       "      <td>0.000000</td>\n",
       "      <td>0.000000</td>\n",
       "      <td>0.0</td>\n",
       "      <td>0.0</td>\n",
       "      <td>0.0</td>\n",
       "      <td>0.00</td>\n",
       "      <td>...</td>\n",
       "      <td>0.0</td>\n",
       "      <td>0.0</td>\n",
       "      <td>0.0</td>\n",
       "      <td>0.0</td>\n",
       "      <td>0.00</td>\n",
       "      <td>0.0</td>\n",
       "      <td>0.0</td>\n",
       "      <td>0.00</td>\n",
       "      <td>0.0</td>\n",
       "      <td>0.00</td>\n",
       "    </tr>\n",
       "    <tr>\n",
       "      <th>3</th>\n",
       "      <td>CN Tower, King and Spadina, Railway Lands, Har...</td>\n",
       "      <td>0.071429</td>\n",
       "      <td>0.071429</td>\n",
       "      <td>0.142857</td>\n",
       "      <td>0.142857</td>\n",
       "      <td>0.142857</td>\n",
       "      <td>0.0</td>\n",
       "      <td>0.0</td>\n",
       "      <td>0.0</td>\n",
       "      <td>0.00</td>\n",
       "      <td>...</td>\n",
       "      <td>0.0</td>\n",
       "      <td>0.0</td>\n",
       "      <td>0.0</td>\n",
       "      <td>0.0</td>\n",
       "      <td>0.00</td>\n",
       "      <td>0.0</td>\n",
       "      <td>0.0</td>\n",
       "      <td>0.00</td>\n",
       "      <td>0.0</td>\n",
       "      <td>0.00</td>\n",
       "    </tr>\n",
       "    <tr>\n",
       "      <th>4</th>\n",
       "      <td>Central Bay Street</td>\n",
       "      <td>0.000000</td>\n",
       "      <td>0.000000</td>\n",
       "      <td>0.000000</td>\n",
       "      <td>0.000000</td>\n",
       "      <td>0.000000</td>\n",
       "      <td>0.0</td>\n",
       "      <td>0.0</td>\n",
       "      <td>0.0</td>\n",
       "      <td>0.00</td>\n",
       "      <td>...</td>\n",
       "      <td>0.0</td>\n",
       "      <td>0.0</td>\n",
       "      <td>0.0</td>\n",
       "      <td>0.0</td>\n",
       "      <td>0.02</td>\n",
       "      <td>0.0</td>\n",
       "      <td>0.0</td>\n",
       "      <td>0.02</td>\n",
       "      <td>0.0</td>\n",
       "      <td>0.02</td>\n",
       "    </tr>\n",
       "  </tbody>\n",
       "</table>\n",
       "<p>5 rows × 213 columns</p>\n",
       "</div>"
      ],
      "text/plain": [
       "                                       Neighbourhood   Airport  \\\n",
       "0                                        Berczy Park  0.000000   \n",
       "1       Brockton, Parkdale Village, Exhibition Place  0.000000   \n",
       "2  Business reply mail Processing Centre, South C...  0.000000   \n",
       "3  CN Tower, King and Spadina, Railway Lands, Har...  0.071429   \n",
       "4                                 Central Bay Street  0.000000   \n",
       "\n",
       "   Airport Food Court  Airport Lounge  Airport Service  Airport Terminal  \\\n",
       "0            0.000000        0.000000         0.000000          0.000000   \n",
       "1            0.000000        0.000000         0.000000          0.000000   \n",
       "2            0.000000        0.000000         0.000000          0.000000   \n",
       "3            0.071429        0.142857         0.142857          0.142857   \n",
       "4            0.000000        0.000000         0.000000          0.000000   \n",
       "\n",
       "   American Restaurant  Antique Shop  Aquarium  Art Gallery  ...  \\\n",
       "0                  0.0           0.0       0.0         0.02  ...   \n",
       "1                  0.0           0.0       0.0         0.00  ...   \n",
       "2                  0.0           0.0       0.0         0.00  ...   \n",
       "3                  0.0           0.0       0.0         0.00  ...   \n",
       "4                  0.0           0.0       0.0         0.00  ...   \n",
       "\n",
       "   Theme Restaurant  Toy / Game Store  Trail  Train Station  \\\n",
       "0               0.0               0.0    0.0            0.0   \n",
       "1               0.0               0.0    0.0            0.0   \n",
       "2               0.0               0.0    0.0            0.0   \n",
       "3               0.0               0.0    0.0            0.0   \n",
       "4               0.0               0.0    0.0            0.0   \n",
       "\n",
       "   Vegetarian / Vegan Restaurant  Video Game Store  Vietnamese Restaurant  \\\n",
       "0                           0.02               0.0                    0.0   \n",
       "1                           0.00               0.0                    0.0   \n",
       "2                           0.00               0.0                    0.0   \n",
       "3                           0.00               0.0                    0.0   \n",
       "4                           0.02               0.0                    0.0   \n",
       "\n",
       "   Wine Bar  Wine Shop  Yoga Studio  \n",
       "0      0.00        0.0         0.00  \n",
       "1      0.00        0.0         0.00  \n",
       "2      0.00        0.0         0.00  \n",
       "3      0.00        0.0         0.00  \n",
       "4      0.02        0.0         0.02  \n",
       "\n",
       "[5 rows x 213 columns]"
      ]
     },
     "execution_count": 24,
     "metadata": {},
     "output_type": "execute_result"
    }
   ],
   "source": [
    "dt_grouped.head()"
   ]
  },
  {
   "cell_type": "code",
   "execution_count": null,
   "metadata": {},
   "outputs": [],
   "source": []
  },
  {
   "cell_type": "markdown",
   "metadata": {},
   "source": [
    "We find top 10 venues in each neighbourhood."
   ]
  },
  {
   "cell_type": "code",
   "execution_count": 26,
   "metadata": {},
   "outputs": [],
   "source": [
    "def return_most_common_venues(row, num_top_venues):\n",
    "    row_categories = row.iloc[1:]\n",
    "    row_categories_sorted = row_categories.sort_values(ascending=False)\n",
    "    \n",
    "    return row_categories_sorted.index.values[0:num_top_venues]"
   ]
  },
  {
   "cell_type": "code",
   "execution_count": 27,
   "metadata": {},
   "outputs": [
    {
     "data": {
      "text/html": [
       "<div>\n",
       "<style scoped>\n",
       "    .dataframe tbody tr th:only-of-type {\n",
       "        vertical-align: middle;\n",
       "    }\n",
       "\n",
       "    .dataframe tbody tr th {\n",
       "        vertical-align: top;\n",
       "    }\n",
       "\n",
       "    .dataframe thead th {\n",
       "        text-align: right;\n",
       "    }\n",
       "</style>\n",
       "<table border=\"1\" class=\"dataframe\">\n",
       "  <thead>\n",
       "    <tr style=\"text-align: right;\">\n",
       "      <th></th>\n",
       "      <th>Neighbourhood</th>\n",
       "      <th>1st Most Common Venue</th>\n",
       "      <th>2nd Most Common Venue</th>\n",
       "      <th>3rd Most Common Venue</th>\n",
       "      <th>4th Most Common Venue</th>\n",
       "      <th>5th Most Common Venue</th>\n",
       "      <th>6th Most Common Venue</th>\n",
       "      <th>7th Most Common Venue</th>\n",
       "      <th>8th Most Common Venue</th>\n",
       "      <th>9th Most Common Venue</th>\n",
       "      <th>10th Most Common Venue</th>\n",
       "    </tr>\n",
       "  </thead>\n",
       "  <tbody>\n",
       "    <tr>\n",
       "      <th>0</th>\n",
       "      <td>Berczy Park</td>\n",
       "      <td>Coffee Shop</td>\n",
       "      <td>Bakery</td>\n",
       "      <td>Seafood Restaurant</td>\n",
       "      <td>Beer Bar</td>\n",
       "      <td>Cocktail Bar</td>\n",
       "      <td>Farmers Market</td>\n",
       "      <td>Restaurant</td>\n",
       "      <td>Cheese Shop</td>\n",
       "      <td>Café</td>\n",
       "      <td>Museum</td>\n",
       "    </tr>\n",
       "    <tr>\n",
       "      <th>1</th>\n",
       "      <td>Brockton, Parkdale Village, Exhibition Place</td>\n",
       "      <td>Café</td>\n",
       "      <td>Coffee Shop</td>\n",
       "      <td>Nightclub</td>\n",
       "      <td>Breakfast Spot</td>\n",
       "      <td>Furniture / Home Store</td>\n",
       "      <td>Climbing Gym</td>\n",
       "      <td>Stadium</td>\n",
       "      <td>Intersection</td>\n",
       "      <td>Bar</td>\n",
       "      <td>Italian Restaurant</td>\n",
       "    </tr>\n",
       "    <tr>\n",
       "      <th>2</th>\n",
       "      <td>Business reply mail Processing Centre, South C...</td>\n",
       "      <td>Fast Food Restaurant</td>\n",
       "      <td>Auto Workshop</td>\n",
       "      <td>Park</td>\n",
       "      <td>Garden Center</td>\n",
       "      <td>Garden</td>\n",
       "      <td>Restaurant</td>\n",
       "      <td>Brewery</td>\n",
       "      <td>Comic Shop</td>\n",
       "      <td>Gym / Fitness Center</td>\n",
       "      <td>Pizza Place</td>\n",
       "    </tr>\n",
       "    <tr>\n",
       "      <th>3</th>\n",
       "      <td>CN Tower, King and Spadina, Railway Lands, Har...</td>\n",
       "      <td>Airport Lounge</td>\n",
       "      <td>Airport Service</td>\n",
       "      <td>Airport Terminal</td>\n",
       "      <td>Airport</td>\n",
       "      <td>Boat or Ferry</td>\n",
       "      <td>Harbor / Marina</td>\n",
       "      <td>Rental Car Location</td>\n",
       "      <td>Sculpture Garden</td>\n",
       "      <td>Boutique</td>\n",
       "      <td>Coffee Shop</td>\n",
       "    </tr>\n",
       "    <tr>\n",
       "      <th>4</th>\n",
       "      <td>Central Bay Street</td>\n",
       "      <td>Coffee Shop</td>\n",
       "      <td>Sandwich Place</td>\n",
       "      <td>Bubble Tea Shop</td>\n",
       "      <td>Café</td>\n",
       "      <td>Italian Restaurant</td>\n",
       "      <td>Comic Shop</td>\n",
       "      <td>Salad Place</td>\n",
       "      <td>Burger Joint</td>\n",
       "      <td>Poke Place</td>\n",
       "      <td>Pizza Place</td>\n",
       "    </tr>\n",
       "  </tbody>\n",
       "</table>\n",
       "</div>"
      ],
      "text/plain": [
       "                                       Neighbourhood 1st Most Common Venue  \\\n",
       "0                                        Berczy Park           Coffee Shop   \n",
       "1       Brockton, Parkdale Village, Exhibition Place                  Café   \n",
       "2  Business reply mail Processing Centre, South C...  Fast Food Restaurant   \n",
       "3  CN Tower, King and Spadina, Railway Lands, Har...        Airport Lounge   \n",
       "4                                 Central Bay Street           Coffee Shop   \n",
       "\n",
       "  2nd Most Common Venue 3rd Most Common Venue 4th Most Common Venue  \\\n",
       "0                Bakery    Seafood Restaurant              Beer Bar   \n",
       "1           Coffee Shop             Nightclub        Breakfast Spot   \n",
       "2         Auto Workshop                  Park         Garden Center   \n",
       "3       Airport Service      Airport Terminal               Airport   \n",
       "4        Sandwich Place       Bubble Tea Shop                  Café   \n",
       "\n",
       "    5th Most Common Venue 6th Most Common Venue 7th Most Common Venue  \\\n",
       "0            Cocktail Bar        Farmers Market            Restaurant   \n",
       "1  Furniture / Home Store          Climbing Gym               Stadium   \n",
       "2                  Garden            Restaurant               Brewery   \n",
       "3           Boat or Ferry       Harbor / Marina   Rental Car Location   \n",
       "4      Italian Restaurant            Comic Shop           Salad Place   \n",
       "\n",
       "  8th Most Common Venue 9th Most Common Venue 10th Most Common Venue  \n",
       "0           Cheese Shop                  Café                 Museum  \n",
       "1          Intersection                   Bar     Italian Restaurant  \n",
       "2            Comic Shop  Gym / Fitness Center            Pizza Place  \n",
       "3      Sculpture Garden              Boutique            Coffee Shop  \n",
       "4          Burger Joint            Poke Place            Pizza Place  "
      ]
     },
     "execution_count": 27,
     "metadata": {},
     "output_type": "execute_result"
    }
   ],
   "source": [
    "num_top_venues = 10\n",
    "\n",
    "indicators = ['st', 'nd', 'rd']\n",
    "\n",
    "# create columns according to number of top venues\n",
    "columns = ['Neighbourhood']\n",
    "for ind in np.arange(num_top_venues):\n",
    "    try:\n",
    "        columns.append('{}{} Most Common Venue'.format(ind+1, indicators[ind]))\n",
    "    except:\n",
    "        columns.append('{}th Most Common Venue'.format(ind+1))\n",
    "\n",
    "# create a new dataframe\n",
    "neighborhoods_venues_sorted = pd.DataFrame(columns=columns)\n",
    "neighborhoods_venues_sorted['Neighbourhood'] = dt_grouped['Neighbourhood']\n",
    "\n",
    "for ind in np.arange(dt_grouped.shape[0]):\n",
    "    neighborhoods_venues_sorted.iloc[ind, 1:] = return_most_common_venues(dt_grouped.iloc[ind, :], num_top_venues)\n",
    "\n",
    "neighborhoods_venues_sorted.head()"
   ]
  },
  {
   "cell_type": "markdown",
   "metadata": {},
   "source": [
    "After we select top 10 venues in each neighbour, we use kclusters to run do the cluster."
   ]
  },
  {
   "cell_type": "markdown",
   "metadata": {},
   "source": [
    "We first use elbow method the figure out the number of clusters."
   ]
  },
  {
   "cell_type": "code",
   "execution_count": 30,
   "metadata": {},
   "outputs": [
    {
     "data": {
      "image/png": "[encoded data removed]",
      "text/plain": [
       "<Figure size 432x288 with 1 Axes>"
      ]
     },
     "metadata": {
      "needs_background": "light"
     },
     "output_type": "display_data"
    }
   ],
   "source": [
    "dt_elbow = dt_grouped.drop('Neighbourhood', 1)\n",
    "\n",
    "Sum_of_squared_distances = []\n",
    "K = range(1,15)\n",
    "for k in K:\n",
    "    km = KMeans(n_clusters=k)\n",
    "    km = km.fit(dt_elbow)\n",
    "    Sum_of_squared_distances.append(km.inertia_)\n",
    "\n",
    "plt.plot(K, Sum_of_squared_distances, 'bx-')\n",
    "plt.xlabel('k')\n",
    "plt.ylabel('Sum_of_squared_distances')\n",
    "plt.title('Elbow Method For Optimal k')\n",
    "plt.show()"
   ]
  },
  {
   "cell_type": "markdown",
   "metadata": {},
   "source": [
    "From the plot, we decided to use k = 8"
   ]
  },
  {
   "cell_type": "code",
   "execution_count": null,
   "metadata": {},
   "outputs": [],
   "source": []
  },
  {
   "cell_type": "markdown",
   "metadata": {},
   "source": [
    "Fit the model"
   ]
  },
  {
   "cell_type": "code",
   "execution_count": 31,
   "metadata": {},
   "outputs": [],
   "source": [
    "# set number of clusters\n",
    "kclusters = 8\n",
    "\n",
    "dt_grouped_clustering = dt_grouped.drop('Neighbourhood', 1)\n",
    "\n",
    "# run k-means clustering\n",
    "kmeans = KMeans(n_clusters=kclusters, random_state=0).fit(dt_grouped_clustering)\n",
    "\n",
    "# check cluster labels generated for each row in the dataframe\n",
    "kmeans.labels_[0:10] \n",
    "# add clustering labels\n",
    "neighborhoods_venues_sorted.insert(0, 'Cluster Labels', kmeans.labels_)"
   ]
  },
  {
   "cell_type": "code",
   "execution_count": 33,
   "metadata": {},
   "outputs": [
    {
     "data": {
      "text/html": [
       "<div>\n",
       "<style scoped>\n",
       "    .dataframe tbody tr th:only-of-type {\n",
       "        vertical-align: middle;\n",
       "    }\n",
       "\n",
       "    .dataframe tbody tr th {\n",
       "        vertical-align: top;\n",
       "    }\n",
       "\n",
       "    .dataframe thead th {\n",
       "        text-align: right;\n",
       "    }\n",
       "</style>\n",
       "<table border=\"1\" class=\"dataframe\">\n",
       "  <thead>\n",
       "    <tr style=\"text-align: right;\">\n",
       "      <th></th>\n",
       "      <th>Postal Code</th>\n",
       "      <th>Borough</th>\n",
       "      <th>Neighbourhood</th>\n",
       "      <th>Latitude</th>\n",
       "      <th>Longitude</th>\n",
       "      <th>Cluster Labels</th>\n",
       "      <th>1st Most Common Venue</th>\n",
       "      <th>2nd Most Common Venue</th>\n",
       "      <th>3rd Most Common Venue</th>\n",
       "      <th>4th Most Common Venue</th>\n",
       "      <th>5th Most Common Venue</th>\n",
       "      <th>6th Most Common Venue</th>\n",
       "      <th>7th Most Common Venue</th>\n",
       "      <th>8th Most Common Venue</th>\n",
       "      <th>9th Most Common Venue</th>\n",
       "      <th>10th Most Common Venue</th>\n",
       "    </tr>\n",
       "  </thead>\n",
       "  <tbody>\n",
       "    <tr>\n",
       "      <th>0</th>\n",
       "      <td>M5A</td>\n",
       "      <td>Downtown Toronto</td>\n",
       "      <td>Regent Park, Harbourfront</td>\n",
       "      <td>43.654260</td>\n",
       "      <td>-79.360636</td>\n",
       "      <td>0</td>\n",
       "      <td>Coffee Shop</td>\n",
       "      <td>Bakery</td>\n",
       "      <td>Park</td>\n",
       "      <td>Pub</td>\n",
       "      <td>Theater</td>\n",
       "      <td>Breakfast Spot</td>\n",
       "      <td>Café</td>\n",
       "      <td>Restaurant</td>\n",
       "      <td>Distribution Center</td>\n",
       "      <td>Beer Store</td>\n",
       "    </tr>\n",
       "    <tr>\n",
       "      <th>1</th>\n",
       "      <td>M7A</td>\n",
       "      <td>Downtown Toronto</td>\n",
       "      <td>Queen's Park, Ontario Provincial Government</td>\n",
       "      <td>43.662301</td>\n",
       "      <td>-79.389494</td>\n",
       "      <td>6</td>\n",
       "      <td>Coffee Shop</td>\n",
       "      <td>Diner</td>\n",
       "      <td>Yoga Studio</td>\n",
       "      <td>College Auditorium</td>\n",
       "      <td>Beer Bar</td>\n",
       "      <td>Smoothie Shop</td>\n",
       "      <td>Sandwich Place</td>\n",
       "      <td>Burrito Place</td>\n",
       "      <td>Café</td>\n",
       "      <td>Creperie</td>\n",
       "    </tr>\n",
       "    <tr>\n",
       "      <th>2</th>\n",
       "      <td>M5B</td>\n",
       "      <td>Downtown Toronto</td>\n",
       "      <td>Garden District, Ryerson</td>\n",
       "      <td>43.657162</td>\n",
       "      <td>-79.378937</td>\n",
       "      <td>0</td>\n",
       "      <td>Coffee Shop</td>\n",
       "      <td>Café</td>\n",
       "      <td>Tea Room</td>\n",
       "      <td>Bookstore</td>\n",
       "      <td>Italian Restaurant</td>\n",
       "      <td>Clothing Store</td>\n",
       "      <td>Theater</td>\n",
       "      <td>Cosmetics Shop</td>\n",
       "      <td>Ramen Restaurant</td>\n",
       "      <td>Fast Food Restaurant</td>\n",
       "    </tr>\n",
       "    <tr>\n",
       "      <th>3</th>\n",
       "      <td>M5C</td>\n",
       "      <td>Downtown Toronto</td>\n",
       "      <td>St. James Town</td>\n",
       "      <td>43.651494</td>\n",
       "      <td>-79.375418</td>\n",
       "      <td>6</td>\n",
       "      <td>Café</td>\n",
       "      <td>Cosmetics Shop</td>\n",
       "      <td>Coffee Shop</td>\n",
       "      <td>Restaurant</td>\n",
       "      <td>Gastropub</td>\n",
       "      <td>Farmers Market</td>\n",
       "      <td>Creperie</td>\n",
       "      <td>Hotel</td>\n",
       "      <td>Seafood Restaurant</td>\n",
       "      <td>Department Store</td>\n",
       "    </tr>\n",
       "    <tr>\n",
       "      <th>4</th>\n",
       "      <td>M4E</td>\n",
       "      <td>East Toronto</td>\n",
       "      <td>The Beaches</td>\n",
       "      <td>43.676357</td>\n",
       "      <td>-79.293031</td>\n",
       "      <td>0</td>\n",
       "      <td>Trail</td>\n",
       "      <td>Neighborhood</td>\n",
       "      <td>Pub</td>\n",
       "      <td>Health Food Store</td>\n",
       "      <td>Yoga Studio</td>\n",
       "      <td>Cuban Restaurant</td>\n",
       "      <td>Doner Restaurant</td>\n",
       "      <td>Dog Run</td>\n",
       "      <td>Distribution Center</td>\n",
       "      <td>Discount Store</td>\n",
       "    </tr>\n",
       "  </tbody>\n",
       "</table>\n",
       "</div>"
      ],
      "text/plain": [
       "  Postal Code           Borough                                Neighbourhood  \\\n",
       "0         M5A  Downtown Toronto                    Regent Park, Harbourfront   \n",
       "1         M7A  Downtown Toronto  Queen's Park, Ontario Provincial Government   \n",
       "2         M5B  Downtown Toronto                     Garden District, Ryerson   \n",
       "3         M5C  Downtown Toronto                               St. James Town   \n",
       "4         M4E      East Toronto                                  The Beaches   \n",
       "\n",
       "    Latitude  Longitude  Cluster Labels 1st Most Common Venue  \\\n",
       "0  43.654260 -79.360636               0           Coffee Shop   \n",
       "1  43.662301 -79.389494               6           Coffee Shop   \n",
       "2  43.657162 -79.378937               0           Coffee Shop   \n",
       "3  43.651494 -79.375418               6                  Café   \n",
       "4  43.676357 -79.293031               0                 Trail   \n",
       "\n",
       "  2nd Most Common Venue 3rd Most Common Venue 4th Most Common Venue  \\\n",
       "0                Bakery                  Park                   Pub   \n",
       "1                 Diner           Yoga Studio    College Auditorium   \n",
       "2                  Café              Tea Room             Bookstore   \n",
       "3        Cosmetics Shop           Coffee Shop            Restaurant   \n",
       "4          Neighborhood                   Pub     Health Food Store   \n",
       "\n",
       "  5th Most Common Venue 6th Most Common Venue 7th Most Common Venue  \\\n",
       "0               Theater        Breakfast Spot                  Café   \n",
       "1              Beer Bar         Smoothie Shop        Sandwich Place   \n",
       "2    Italian Restaurant        Clothing Store               Theater   \n",
       "3             Gastropub        Farmers Market              Creperie   \n",
       "4           Yoga Studio      Cuban Restaurant      Doner Restaurant   \n",
       "\n",
       "  8th Most Common Venue 9th Most Common Venue 10th Most Common Venue  \n",
       "0            Restaurant   Distribution Center             Beer Store  \n",
       "1         Burrito Place                  Café               Creperie  \n",
       "2        Cosmetics Shop      Ramen Restaurant   Fast Food Restaurant  \n",
       "3                 Hotel    Seafood Restaurant       Department Store  \n",
       "4               Dog Run   Distribution Center         Discount Store  "
      ]
     },
     "execution_count": 33,
     "metadata": {},
     "output_type": "execute_result"
    }
   ],
   "source": [
    "dt_merged = dt_data.join(neighborhoods_venues_sorted.set_index('Neighbourhood'), on='Neighbourhood')\n",
    "dt_merged.head()"
   ]
  },
  {
   "cell_type": "code",
   "execution_count": 40,
   "metadata": {},
   "outputs": [
    {
     "data": {
      "text/html": [
       "<div style=\"width:100%;\"><div style=\"position:relative;width:100%;height:0;padding-bottom:60%;\"><span style=\"color:#565656\">Make this Notebook Trusted to load map: File -> Trust Notebook</span><iframe src=\"about:blank\" style=\"position:absolute;width:100%;height:100%;left:0;top:0;border:none !important;\" data-html=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 onload=\"this.contentDocument.open();this.contentDocument.write(atob(this.getAttribute('data-html')));this.contentDocument.close();\" allowfullscreen webkitallowfullscreen mozallowfullscreen></iframe></div></div>"
      ],
      "text/plain": [
       "<folium.folium.Map at 0x11e2b4160>"
      ]
     },
     "execution_count": 40,
     "metadata": {},
     "output_type": "execute_result"
    }
   ],
   "source": [
    "# create map\n",
    "map_clusters = folium.Map(location=[latitude, longitude], zoom_start=12)\n",
    "\n",
    "# set color scheme for the clusters\n",
    "x = np.arange(kclusters)\n",
    "ys = [i + x + (i*x)**2 for i in range(kclusters)]\n",
    "colors_array = cm.rainbow(np.linspace(0, 1, len(ys)))\n",
    "rainbow = [colors.rgb2hex(i) for i in colors_array]\n",
    "\n",
    "# add markers to the map\n",
    "markers_colors = []\n",
    "for lat, lon, poi, cluster in zip(dt_merged['Latitude'], dt_merged['Longitude'], \n",
    "                                  dt_merged['Neighbourhood'], dt_merged['Cluster Labels']):\n",
    "    label = folium.Popup(str(poi) + ' Cluster ' + str(cluster), parse_html=True)\n",
    "    folium.CircleMarker(\n",
    "        [lat, lon],\n",
    "        radius=5,\n",
    "        popup=label,\n",
    "        color=rainbow[cluster-1],\n",
    "        fill=True,\n",
    "        fill_color=rainbow[cluster-1],\n",
    "        fill_opacity=0.7).add_to(map_clusters)\n",
    "       \n",
    "map_clusters"
   ]
  },
  {
   "cell_type": "code",
   "execution_count": null,
   "metadata": {},
   "outputs": [],
   "source": []
  },
  {
   "cell_type": "code",
   "execution_count": null,
   "metadata": {},
   "outputs": [],
   "source": []
  },
  {
   "cell_type": "code",
   "execution_count": null,
   "metadata": {},
   "outputs": [],
   "source": []
  }
 ],
 "metadata": {
  "kernelspec": {
   "display_name": "Python 3",
   "language": "python",
   "name": "python3"
  },
  "language_info": {
   "codemirror_mode": {
    "name": "ipython",
    "version": 3
   },
   "file_extension": ".py",
   "mimetype": "text/x-python",
   "name": "python",
   "nbconvert_exporter": "python",
   "pygments_lexer": "ipython3",
   "version": "3.8.3"
  }
 },
 "nbformat": 4,
 "nbformat_minor": 4
}
